{
 "cells": [
  {
   "cell_type": "code",
   "execution_count": null,
   "metadata": {},
   "outputs": [],
   "source": [
    "import json\n",
    "import os\n",
    "import random\n",
    "import sqlite3\n",
    "import struct\n",
    "\n",
    "import pandas as pd"
   ]
  },
  {
   "cell_type": "markdown",
   "metadata": {},
   "source": [
    "## Files are just 0s and 1s"
   ]
  },
  {
   "cell_type": "code",
   "execution_count": null,
   "metadata": {},
   "outputs": [],
   "source": [
    "# Create file 1 - ASCII http://www.asciitable.com/\n",
    "\n",
    "f = open('file1.txt','w')\n",
    "architectstring = 'Your life is the sum of a remainder of an unbalanced equation inherent to the programming of the matrix.\\n'\n",
    "f.write(architectstring)\n",
    "f.close()"
   ]
  },
  {
   "cell_type": "code",
   "execution_count": null,
   "metadata": {},
   "outputs": [],
   "source": [
    "# Inspect file 1\n",
    "\n",
    "f = open('file1.txt')\n",
    "contents = f.read()\n",
    "print(\"ASCII text of file 1:\")\n",
    "print(contents)\n",
    "\n",
    "\n",
    "print(\"String length of the original string: \", len(architectstring))\n",
    "\n"
   ]
  },
  {
   "cell_type": "markdown",
   "metadata": {},
   "source": [
    "**Q1. How many bytes should the file contain?**\n",
    "\n",
    "**Q2. What should the first 5 bytes of the file be?**"
   ]
  },
  {
   "cell_type": "code",
   "execution_count": null,
   "metadata": {},
   "outputs": [],
   "source": [
    "# Answers\n",
    "\n",
    "print(os.path.getsize('file1.txt'))\n",
    "\n",
    "f = open('file1.txt', 'rb')\n",
    "struct.unpack('BBBBB', f.read(5))"
   ]
  },
  {
   "cell_type": "markdown",
   "metadata": {},
   "source": [
    "## There are many simple readable file formats"
   ]
  },
  {
   "cell_type": "code",
   "execution_count": null,
   "metadata": {},
   "outputs": [],
   "source": [
    "# json: javascript object notation\n",
    "\n",
    "data = {'name':'amy', 'dob':'1990/01/01', 'mean_abp':['60, 70, 70, 50']}\n",
    "\n",
    "with open('file2.json', 'w') as f:  \n",
    "    json.dump(data, f)"
   ]
  },
  {
   "cell_type": "code",
   "execution_count": null,
   "metadata": {},
   "outputs": [],
   "source": [
    "f = open('file2.json')\n",
    "f.read()"
   ]
  },
  {
   "cell_type": "code",
   "execution_count": null,
   "metadata": {},
   "outputs": [],
   "source": [
    "# csv: comma separated values\n",
    "\n",
    "df = pd.read_csv('data/PhysionetChallenge2012-set-a.csv')\n",
    "df.head()"
   ]
  },
  {
   "cell_type": "markdown",
   "metadata": {},
   "source": [
    "## Relational Databases\n",
    "\n",
    "https://docs.python.org/3/library/sqlite3.html\n",
    "\n",
    "Relational table-like structure"
   ]
  },
  {
   "cell_type": "code",
   "execution_count": null,
   "metadata": {},
   "outputs": [],
   "source": [
    "# The data\n",
    "\n",
    "# Employees\n",
    "df_employees = pd.DataFrame([\n",
    "    [1001, 'Erwin', '2001-01-01', 'ceo'],\n",
    "    [1002, 'Annie', '2002-02-02', 'accountant'],\n",
    "    [1003, 'Reiner', '2003-03-03', 'marketer'],\n",
    "    [1004, 'Mikasa', '2004-04-04', 'engineer']],\n",
    "    columns=['employee_id', 'name', 'hire_date', 'job_title'])\n",
    "\n",
    "# Performance Reviews\n",
    "df_reviews = pd.DataFrame([\n",
    "    [8, 1002, 1001, '2005-12-01'],\n",
    "    [7, 1003, 1001, '2005-12-01'],\n",
    "    [9, 1004, 1001, '2005-12-01'],\n",
    "    [7, 1002, 1001, '2006-12-01'],\n",
    "    [9, 1003, 1001, '2006-12-01'],\n",
    "    [10, 1004, 1001, '2006-12-01']],\n",
    "    columns=['rating', 'employee_id', 'reviewer_id', 'review_date'])\n",
    "\n",
    "# Bonuses\n",
    "df_bonuses = pd.DataFrame([\n",
    "    [10000, 1002, '2005-12-01'],\n",
    "    [20000, 1004, '2005-12-01'],\n",
    "    [20000, 1003, '2006-12-01'],\n",
    "    [30000, 1004, '2006-12-01']],\n",
    "    columns=['amount', 'employee_id', 'bonus_date'])"
   ]
  },
  {
   "cell_type": "code",
   "execution_count": null,
   "metadata": {},
   "outputs": [],
   "source": [
    "display(df_employees)\n",
    "display(df_reviews)\n",
    "display(df_bonuses)"
   ]
  },
  {
   "cell_type": "code",
   "execution_count": null,
   "metadata": {},
   "outputs": [],
   "source": [
    "# The connection object represents the database\n",
    "# os.remove('staff.db')\n",
    "conn = sqlite3.connect('staff.db')\n",
    "\n",
    "c = conn.cursor()\n",
    "\n",
    "# Create tables\n",
    "c.execute('''CREATE TABLE employees\n",
    "             (employee_id integer primary key, name text, hire_date date, job_title text);''')\n",
    "c.execute('''CREATE TABLE reviews\n",
    "             (rating, employee_id, reviewer_id, review_date);''')\n",
    "c.execute('''CREATE TABLE bonuses\n",
    "             ('amount', 'employee_id', 'bonus_date');''')\n",
    "\n",
    "# Insert data\n",
    "c.executemany(\"INSERT INTO employees VALUES (?, ?, ?, ?)\", df_employees.values.tolist())\n",
    "c.executemany(\"INSERT INTO reviews VALUES (?, ?, ?, ?)\", df_reviews.values.tolist())\n",
    "c.executemany(\"INSERT INTO bonuses VALUES (?, ?, ?)\", df_bonuses.values.tolist())\n",
    "\n",
    "# Save (commit) the changes\n",
    "conn.commit()\n",
    "\n",
    "# We can also close the connection if we are done with it.\n",
    "# Just be sure any changes have been committed or they will be lost.\n",
    "conn.close()"
   ]
  },
  {
   "cell_type": "code",
   "execution_count": null,
   "metadata": {},
   "outputs": [],
   "source": [
    "conn = sqlite3.connect('staff.db')\n",
    "c = conn.cursor()"
   ]
  },
  {
   "cell_type": "code",
   "execution_count": null,
   "metadata": {},
   "outputs": [],
   "source": [
    "# Querying data from tables\n",
    "result = [row for row in c.execute(\n",
    "    \"select * from employees where hire_date < date('2003-04-04');\")]\n",
    "result"
   ]
  },
  {
   "cell_type": "code",
   "execution_count": null,
   "metadata": {},
   "outputs": [],
   "source": [
    "# Joining results from multiple tables\n",
    "result = [row for row in c.execute(\n",
    "    '''select e.name, b.amount, b.date from employees e\n",
    "       inner join bonuses b\n",
    "       on e.employee_id=b.employee_id;''')]\n",
    "result"
   ]
  },
  {
   "cell_type": "markdown",
   "metadata": {},
   "source": [
    "**Q1. Construct an SQL query to show all the review ratings and dates of the employee named Annie**"
   ]
  },
  {
   "cell_type": "code",
   "execution_count": null,
   "metadata": {},
   "outputs": [],
   "source": [
    "result = [row for row in c.execute(\n",
    "    '''select <INSERT CODE>\n",
    "       where <INSERT CODE>;''')]\n",
    "result"
   ]
  },
  {
   "cell_type": "code",
   "execution_count": null,
   "metadata": {},
   "outputs": [],
   "source": []
  },
  {
   "cell_type": "markdown",
   "metadata": {},
   "source": [
    "**Q2. Design the relations (tables and columns) to hold the following data for patients:**\n",
    "- Name\n",
    "- Gender\n",
    "- Postal code\n",
    "- DOB\n",
    "- Patient ID\n",
    "- Visit datetime\n",
    "- Visit final bill\n",
    "- Blood Sugar \n",
    "- Creatinine\n",
    "- BNP\n",
    "- Sodium\n",
    "- Potassium\n",
    "\n",
    "Hint: Add more columns/variables you think are appropriate.\n"
   ]
  },
  {
   "cell_type": "code",
   "execution_count": null,
   "metadata": {},
   "outputs": [],
   "source": [
    "# Answer 1\n",
    "\n",
    "# result = [row for row in c.execute(\n",
    "#     '''select rating, review_date from reviews\n",
    "#        where employee_id=(select employee_id from employees where name='Annie');''')]\n",
    "# result"
   ]
  },
  {
   "cell_type": "code",
   "execution_count": null,
   "metadata": {},
   "outputs": [],
   "source": [
    "# Answer 2\n",
    "patients = ['name', 'gender', 'postal code', 'dob', 'patient_id']\n",
    "visits = ['visit_datetime', 'final_bill', 'patient_id']\n",
    "labs = ['measurement_datetime', 'lab_item_id', 'lab_value']\n",
    "\n",
    "lab_dict = ['lab_item_id', 'lab_item_name']"
   ]
  },
  {
   "cell_type": "markdown",
   "metadata": {},
   "source": [
    "## Indexing"
   ]
  },
  {
   "cell_type": "markdown",
   "metadata": {},
   "source": [
    "**Q. Write a function to return the index of an item in an unsorted list if present, else -1. How does it scale relative to the size of the list?**"
   ]
  },
  {
   "cell_type": "code",
   "execution_count": null,
   "metadata": {},
   "outputs": [],
   "source": [
    "x = list(range(100))\n",
    "random.shuffle(x)"
   ]
  },
  {
   "cell_type": "code",
   "execution_count": null,
   "metadata": {},
   "outputs": [],
   "source": [
    "def linear_search(x, item):\n",
    "    \"\"\"\n",
    "    Function to return the index of `item` in the array `x` if present, else None.\n",
    "    \"\"\"\n",
    "    # Write code here\n",
    "    pass\n"
   ]
  },
  {
   "cell_type": "code",
   "execution_count": null,
   "metadata": {},
   "outputs": [],
   "source": [
    "# test\n",
    "linear_search(x, 20)"
   ]
  },
  {
   "cell_type": "markdown",
   "metadata": {},
   "source": [
    "**Q. Write a function to return the index of an item in a sorted list if present, else -1. How does it scale relative to the size of the list?**"
   ]
  },
  {
   "cell_type": "code",
   "execution_count": null,
   "metadata": {},
   "outputs": [],
   "source": [
    "y = list(range(100))"
   ]
  },
  {
   "cell_type": "code",
   "execution_count": null,
   "metadata": {},
   "outputs": [],
   "source": [
    "def binary_search(x, item, l, r):\n",
    "    # Write code here\n",
    "    pass"
   ]
  },
  {
   "cell_type": "code",
   "execution_count": null,
   "metadata": {},
   "outputs": [],
   "source": [
    "# Test\n",
    "binary_search(y, 31, 0, len(y)-1)"
   ]
  },
  {
   "cell_type": "code",
   "execution_count": null,
   "metadata": {},
   "outputs": [],
   "source": []
  },
  {
   "cell_type": "code",
   "execution_count": null,
   "metadata": {},
   "outputs": [],
   "source": []
  },
  {
   "cell_type": "code",
   "execution_count": null,
   "metadata": {},
   "outputs": [],
   "source": []
  },
  {
   "cell_type": "code",
   "execution_count": null,
   "metadata": {},
   "outputs": [],
   "source": [
    "# Answer\n",
    "def linear_search(x, item):\n",
    "    for i in range(len(x)):\n",
    "        if x[i] == item:\n",
    "            return i\n",
    "    "
   ]
  },
  {
   "cell_type": "code",
   "execution_count": null,
   "metadata": {},
   "outputs": [],
   "source": []
  },
  {
   "cell_type": "code",
   "execution_count": null,
   "metadata": {},
   "outputs": [],
   "source": [
    "# Answer\n",
    "def binary_search(x, item, l, r):\n",
    "    # Base cases\n",
    "    if item < x[l] or item > x[r]:\n",
    "        return -1\n",
    "    # Restricted to one index. Do or die.\n",
    "    if l == r:\n",
    "        if x[l] == item:\n",
    "            return l\n",
    "        else:\n",
    "            return -1\n",
    "\n",
    "    m = int((l + r) / 2)\n",
    "\n",
    "    if x[m] == item:\n",
    "        return m\n",
    "    elif x[m] > item:\n",
    "        return binary_search(x, item, l, m-1)\n",
    "    else:\n",
    "        return binary_search(x, item, m+1, r)"
   ]
  },
  {
   "cell_type": "code",
   "execution_count": null,
   "metadata": {},
   "outputs": [],
   "source": [
    "binary_search(y, 46, 0, len(y) - 1)"
   ]
  },
  {
   "cell_type": "code",
   "execution_count": null,
   "metadata": {},
   "outputs": [],
   "source": []
  },
  {
   "cell_type": "code",
   "execution_count": null,
   "metadata": {},
   "outputs": [],
   "source": []
  }
 ],
 "metadata": {
  "kernelspec": {
   "display_name": "Python 3",
   "language": "python",
   "name": "python3"
  },
  "language_info": {
   "codemirror_mode": {
    "name": "ipython",
    "version": 3
   },
   "file_extension": ".py",
   "mimetype": "text/x-python",
   "name": "python",
   "nbconvert_exporter": "python",
   "pygments_lexer": "ipython3",
   "version": "3.5.2"
  }
 },
 "nbformat": 4,
 "nbformat_minor": 2
}
