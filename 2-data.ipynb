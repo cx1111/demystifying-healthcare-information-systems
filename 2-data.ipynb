{
 "cells": [
  {
   "cell_type": "code",
   "execution_count": 59,
   "metadata": {},
   "outputs": [],
   "source": [
    "import datetime\n",
    "import os\n",
    "import sqlite3\n",
    "\n",
    "import pandas as pd"
   ]
  },
  {
   "cell_type": "markdown",
   "metadata": {},
   "source": [
    "\n",
    "# Data Cleaning and Analysis\n",
    "'Carotid endarterectomy'"
   ]
  },
  {
   "cell_type": "code",
   "execution_count": null,
   "metadata": {},
   "outputs": [],
   "source": [
    "cloud pricing...\n",
    "ml: the study of tools and methods for identifying patterns in data\n",
    "    \n",
    "increase our understanding\n",
    "make predictions"
   ]
  },
  {
   "cell_type": "code",
   "execution_count": null,
   "metadata": {},
   "outputs": [],
   "source": [
    "This problem: target monitoring/prevention/rehab efforts"
   ]
  },
  {
   "cell_type": "code",
   "execution_count": null,
   "metadata": {},
   "outputs": [],
   "source": [
    "Files:\n",
    "  \n",
    "EMR\n",
    "- age\n",
    "- gender\n",
    "- race\n",
    "- postal code\n",
    "- diabetes\n",
    "- immunosuppression\n",
    "\n",
    "\n",
    "- medications\n",
    "\n",
    "EMR section appended\n",
    "- pain in limbs\n",
    "- cold in limbs\n",
    "- vision changes\n",
    "- \n",
    "\n",
    "National Income Database\n",
    "- Income\n",
    "\n",
    "Waveform files of bp\n",
    "\n",
    "claims medications"
   ]
  },
  {
   "cell_type": "code",
   "execution_count": null,
   "metadata": {},
   "outputs": [],
   "source": [
    "\n"
   ]
  },
  {
   "cell_type": "code",
   "execution_count": null,
   "metadata": {},
   "outputs": [],
   "source": [
    "# Collected Data\n",
    "\n",
    "# 1. EHR tables in a relational database. Stored in `ehr/ehr.db`\n",
    "patients = ['patient_id', 'name', 'dob', 'gender', 'race', 'postal_code', 'occupation', 'phone']\n",
    "\n",
    "admissions = ['patient_id', 'hadm_id', 'intime', 'outtime']\n",
    "\n",
    "procedures = ['hadm_id', 'icd9_code', 'clinician_id']\n",
    "\n",
    "diagnoses = ['hadm_id', 'icd9_code', 'clinician_id']\n",
    "\n",
    "chartevents = ['hadm_id', 'item_id', 'value', 'datetime']\n",
    "\n",
    "d_procedures = {3000:'Carotid endarterectomy'}\n",
    "d_diagnoses = {10000:'diabetes', 10001:'hiv', 10002:'cancer'}\n",
    "d_chartevents = {2000:'weight', 2001:'abp'}\n",
    "\n",
    "\n",
    "# 2. Streamed blood pressure numberics from wearable device.\n",
    "# Stored in csv files: `blood-pressure/<patient_id>-<date>.csv`.\n",
    "# Aggregated hourly data. Each patients have recordings both before and after their procedure.\n",
    "\n",
    "# example format:\n",
    "\"\"\"\n",
    "hour,bp_min,bp_max\n",
    "0,70,72\n",
    "...\n",
    "23,45,60\n",
    "\"\"\"\n",
    "\n",
    "# 3. Pharmacy orders. Stored in text files: pharmacy/NNNNNN.txt\n",
    "\n",
    "# example format:\n",
    "\"\"\"\n",
    "Date:YYYY-MM-DD\n",
    "Patient ID: \n",
    "Pharmacy: \n",
    "Drug: dexamethasone/erlotinib/other\n",
    "\"\"\"\n",
    "\n"
   ]
  },
  {
   "cell_type": "code",
   "execution_count": null,
   "metadata": {},
   "outputs": [],
   "source": [
    "# Research database tables\n",
    "\n",
    "# Removed name, phone\n",
    "patients = ['patient_id', 'dob', 'gender', 'race', 'postal_code', 'occupation'] \n",
    "\n",
    "admissions = ['patient_id', 'hadm_id', 'intime', 'outtime']\n",
    "\n",
    "# Removed clinician_id\n",
    "procedures = ['hadm_id', 'icd9_code'] \n",
    "\n",
    "# Removed clinician_id\n",
    "diagnoses = ['hadm_id', 'icd9_code']\n",
    "\n",
    "chartevents = ['hadm_id', 'item_id', 'value', 'datetime']\n",
    "\n",
    "# Convert file to rdb table\n",
    "bpstream = ['patient_id', 'datetime', 'bp_min', 'bp_max']\n",
    "\n",
    "# Convert file to rdb table\n",
    "medications = ['patient_id', 'datetime', 'drug']\n"
   ]
  },
  {
   "cell_type": "markdown",
   "metadata": {},
   "source": [
    "## Task: Combine the disparate data sources to create a single usable sharable research database"
   ]
  },
  {
   "cell_type": "code",
   "execution_count": 24,
   "metadata": {},
   "outputs": [],
   "source": [
    "# os.remove('data/allhealth.db')\n",
    "conn = sqlite3.connect('data/allheath.db')\n",
    "c = conn.cursor()"
   ]
  },
  {
   "cell_type": "code",
   "execution_count": 34,
   "metadata": {},
   "outputs": [],
   "source": [
    "# Step 1 - Transfer the EHR data into the combined research database\n",
    "\n",
    "# Read the data from the EHR\n",
    "conn_ehr = sqlite3.connect('data/example-data-lake/ehr/ehr.db')\n",
    "\n",
    "df_patients = pd.read_sql_query('select * from patients;', conn_ehr)\n",
    "df_admissions = pd.read_sql_query('select * from admissions;', conn_ehr)\n",
    "df_procedures = pd.read_sql_query('select * from procedures;', conn_ehr)\n",
    "df_diagnoses = pd.read_sql_query('select * from diagnoses;', conn_ehr)\n",
    "df_chartevents = pd.read_sql_query('select * from chartevents;', conn_ehr)\n",
    "\n",
    "conn_ehr.close()\n",
    "\n",
    "# Remove the unwanted columns\n",
    "del(df_patients['name'])\n",
    "del(df_patients['phone'])\n",
    "\n",
    "del(df_procedures['clinician_id'])\n",
    "del(df_diagnoses['clinician_id'])\n"
   ]
  },
  {
   "cell_type": "code",
   "execution_count": null,
   "metadata": {},
   "outputs": [],
   "source": [
    "# Hourly blood pressure stream\n",
    "file_dir = 'data/example-data-lake/bp-stream'\n",
    "\n",
    "df_bpstream = pd.DataFrame(columns=['patient_id', 'datetime', 'bp_min', 'bp_max'])\n",
    "\n",
    "for file in os.listdir(file_dir):\n",
    "    # Read the csv file\n",
    "    df = pd.read_csv(os.path.join(file_dir, file))\n",
    "    patient_id, year, month, day = file.strip('.csv').split('-')\n",
    "    \n",
    "    # Try to make a smarter table, then append\n",
    "    \n",
    "    for j in range(len(df)):\n",
    "        df_bpstream = df_bpstream.append({'patient_id':patient_id,\n",
    "            'datetime':datetime.datetime(int(year), int(month), int(day), df.loc[j, 'hour']),\n",
    "            'bp_min':df.loc[j, 'bp_min'],\n",
    "            'bp_max':df.loc[j, 'bp_max']}, ignore_index=True,)\n",
    "    "
   ]
  },
  {
   "cell_type": "code",
   "execution_count": 77,
   "metadata": {},
   "outputs": [
    {
     "data": {
      "text/html": [
       "<div>\n",
       "<style scoped>\n",
       "    .dataframe tbody tr th:only-of-type {\n",
       "        vertical-align: middle;\n",
       "    }\n",
       "\n",
       "    .dataframe tbody tr th {\n",
       "        vertical-align: top;\n",
       "    }\n",
       "\n",
       "    .dataframe thead th {\n",
       "        text-align: right;\n",
       "    }\n",
       "</style>\n",
       "<table border=\"1\" class=\"dataframe\">\n",
       "  <thead>\n",
       "    <tr style=\"text-align: right;\">\n",
       "      <th></th>\n",
       "      <th>patient_id</th>\n",
       "      <th>datetime</th>\n",
       "      <th>bp_min</th>\n",
       "      <th>bp_max</th>\n",
       "    </tr>\n",
       "  </thead>\n",
       "  <tbody>\n",
       "    <tr>\n",
       "      <th>0</th>\n",
       "      <td>1</td>\n",
       "      <td>lol</td>\n",
       "      <td>1</td>\n",
       "      <td>2</td>\n",
       "    </tr>\n",
       "  </tbody>\n",
       "</table>\n",
       "</div>"
      ],
      "text/plain": [
       "  patient_id datetime bp_min bp_max\n",
       "0          1      lol      1      2"
      ]
     },
     "execution_count": 77,
     "metadata": {},
     "output_type": "execute_result"
    }
   ],
   "source": [
    "df_bpstream.append({'patient_id':1, 'datetime':'lol', 'bp_min':1, 'bp_max':2}, ignore_index=True)"
   ]
  },
  {
   "cell_type": "code",
   "execution_count": 70,
   "metadata": {},
   "outputs": [
    {
     "data": {
      "text/plain": [
       "Index(['patient_id', 'datetime', 'bp_min', 'bp_max'], dtype='object')"
      ]
     },
     "execution_count": 70,
     "metadata": {},
     "output_type": "execute_result"
    }
   ],
   "source": [
    "df_bpstream.columns[:10]"
   ]
  },
  {
   "cell_type": "code",
   "execution_count": 45,
   "metadata": {},
   "outputs": [
    {
     "name": "stderr",
     "output_type": "stream",
     "text": [
      "/home/cx1111/Software/pythonenvs/p35/lib/python3.5/site-packages/pandas/core/indexes/api.py:87: RuntimeWarning: unorderable types: str() < int(), sort order is undefined for incomparable objects\n",
      "  result = result.union(other)\n"
     ]
    },
    {
     "data": {
      "text/html": [
       "<div>\n",
       "<style scoped>\n",
       "    .dataframe tbody tr th:only-of-type {\n",
       "        vertical-align: middle;\n",
       "    }\n",
       "\n",
       "    .dataframe tbody tr th {\n",
       "        vertical-align: top;\n",
       "    }\n",
       "\n",
       "    .dataframe thead th {\n",
       "        text-align: right;\n",
       "    }\n",
       "</style>\n",
       "<table border=\"1\" class=\"dataframe\">\n",
       "  <thead>\n",
       "    <tr style=\"text-align: right;\">\n",
       "      <th></th>\n",
       "      <th>patient_id</th>\n",
       "      <th>datetime</th>\n",
       "      <th>bp_min</th>\n",
       "      <th>bp_max</th>\n",
       "      <th>0</th>\n",
       "    </tr>\n",
       "  </thead>\n",
       "  <tbody>\n",
       "    <tr>\n",
       "      <th>0</th>\n",
       "      <td>NaN</td>\n",
       "      <td>NaN</td>\n",
       "      <td>NaN</td>\n",
       "      <td>NaN</td>\n",
       "      <td>1.0</td>\n",
       "    </tr>\n",
       "    <tr>\n",
       "      <th>1</th>\n",
       "      <td>NaN</td>\n",
       "      <td>NaN</td>\n",
       "      <td>NaN</td>\n",
       "      <td>NaN</td>\n",
       "      <td>2.0</td>\n",
       "    </tr>\n",
       "    <tr>\n",
       "      <th>2</th>\n",
       "      <td>NaN</td>\n",
       "      <td>NaN</td>\n",
       "      <td>NaN</td>\n",
       "      <td>NaN</td>\n",
       "      <td>3.0</td>\n",
       "    </tr>\n",
       "    <tr>\n",
       "      <th>3</th>\n",
       "      <td>NaN</td>\n",
       "      <td>NaN</td>\n",
       "      <td>NaN</td>\n",
       "      <td>NaN</td>\n",
       "      <td>4.0</td>\n",
       "    </tr>\n",
       "  </tbody>\n",
       "</table>\n",
       "</div>"
      ],
      "text/plain": [
       "  patient_id datetime bp_min bp_max    0\n",
       "0        NaN      NaN    NaN    NaN  1.0\n",
       "1        NaN      NaN    NaN    NaN  2.0\n",
       "2        NaN      NaN    NaN    NaN  3.0\n",
       "3        NaN      NaN    NaN    NaN  4.0"
      ]
     },
     "execution_count": 45,
     "metadata": {},
     "output_type": "execute_result"
    }
   ],
   "source": [
    "df_bpstream.append({})"
   ]
  },
  {
   "cell_type": "code",
   "execution_count": 46,
   "metadata": {},
   "outputs": [
    {
     "data": {
      "text/html": [
       "<div>\n",
       "<style scoped>\n",
       "    .dataframe tbody tr th:only-of-type {\n",
       "        vertical-align: middle;\n",
       "    }\n",
       "\n",
       "    .dataframe tbody tr th {\n",
       "        vertical-align: top;\n",
       "    }\n",
       "\n",
       "    .dataframe thead th {\n",
       "        text-align: right;\n",
       "    }\n",
       "</style>\n",
       "<table border=\"1\" class=\"dataframe\">\n",
       "  <thead>\n",
       "    <tr style=\"text-align: right;\">\n",
       "      <th></th>\n",
       "      <th>patient_id</th>\n",
       "      <th>datetime</th>\n",
       "      <th>bp_min</th>\n",
       "      <th>bp_max</th>\n",
       "    </tr>\n",
       "  </thead>\n",
       "  <tbody>\n",
       "  </tbody>\n",
       "</table>\n",
       "</div>"
      ],
      "text/plain": [
       "Empty DataFrame\n",
       "Columns: [patient_id, datetime, bp_min, bp_max]\n",
       "Index: []"
      ]
     },
     "execution_count": 46,
     "metadata": {},
     "output_type": "execute_result"
    }
   ],
   "source": [
    "df_bpstream"
   ]
  },
  {
   "cell_type": "code",
   "execution_count": null,
   "metadata": {},
   "outputs": [],
   "source": []
  },
  {
   "cell_type": "code",
   "execution_count": 43,
   "metadata": {},
   "outputs": [
    {
     "data": {
      "text/html": [
       "<div>\n",
       "<style scoped>\n",
       "    .dataframe tbody tr th:only-of-type {\n",
       "        vertical-align: middle;\n",
       "    }\n",
       "\n",
       "    .dataframe tbody tr th {\n",
       "        vertical-align: top;\n",
       "    }\n",
       "\n",
       "    .dataframe thead th {\n",
       "        text-align: right;\n",
       "    }\n",
       "</style>\n",
       "<table border=\"1\" class=\"dataframe\">\n",
       "  <thead>\n",
       "    <tr style=\"text-align: right;\">\n",
       "      <th></th>\n",
       "      <th>hour</th>\n",
       "      <th>bp_min</th>\n",
       "      <th>bp_max</th>\n",
       "    </tr>\n",
       "  </thead>\n",
       "  <tbody>\n",
       "    <tr>\n",
       "      <th>0</th>\n",
       "      <td>0</td>\n",
       "      <td>40</td>\n",
       "      <td>80</td>\n",
       "    </tr>\n",
       "    <tr>\n",
       "      <th>1</th>\n",
       "      <td>1</td>\n",
       "      <td>54</td>\n",
       "      <td>99</td>\n",
       "    </tr>\n",
       "    <tr>\n",
       "      <th>2</th>\n",
       "      <td>2</td>\n",
       "      <td>65</td>\n",
       "      <td>87</td>\n",
       "    </tr>\n",
       "    <tr>\n",
       "      <th>3</th>\n",
       "      <td>3</td>\n",
       "      <td>67</td>\n",
       "      <td>108</td>\n",
       "    </tr>\n",
       "    <tr>\n",
       "      <th>4</th>\n",
       "      <td>4</td>\n",
       "      <td>48</td>\n",
       "      <td>106</td>\n",
       "    </tr>\n",
       "    <tr>\n",
       "      <th>5</th>\n",
       "      <td>5</td>\n",
       "      <td>58</td>\n",
       "      <td>102</td>\n",
       "    </tr>\n",
       "    <tr>\n",
       "      <th>6</th>\n",
       "      <td>6</td>\n",
       "      <td>45</td>\n",
       "      <td>97</td>\n",
       "    </tr>\n",
       "    <tr>\n",
       "      <th>7</th>\n",
       "      <td>7</td>\n",
       "      <td>69</td>\n",
       "      <td>107</td>\n",
       "    </tr>\n",
       "    <tr>\n",
       "      <th>8</th>\n",
       "      <td>8</td>\n",
       "      <td>63</td>\n",
       "      <td>79</td>\n",
       "    </tr>\n",
       "    <tr>\n",
       "      <th>9</th>\n",
       "      <td>9</td>\n",
       "      <td>50</td>\n",
       "      <td>80</td>\n",
       "    </tr>\n",
       "    <tr>\n",
       "      <th>10</th>\n",
       "      <td>10</td>\n",
       "      <td>54</td>\n",
       "      <td>101</td>\n",
       "    </tr>\n",
       "    <tr>\n",
       "      <th>11</th>\n",
       "      <td>11</td>\n",
       "      <td>67</td>\n",
       "      <td>96</td>\n",
       "    </tr>\n",
       "    <tr>\n",
       "      <th>12</th>\n",
       "      <td>12</td>\n",
       "      <td>54</td>\n",
       "      <td>89</td>\n",
       "    </tr>\n",
       "    <tr>\n",
       "      <th>13</th>\n",
       "      <td>13</td>\n",
       "      <td>49</td>\n",
       "      <td>103</td>\n",
       "    </tr>\n",
       "    <tr>\n",
       "      <th>14</th>\n",
       "      <td>14</td>\n",
       "      <td>56</td>\n",
       "      <td>95</td>\n",
       "    </tr>\n",
       "    <tr>\n",
       "      <th>15</th>\n",
       "      <td>15</td>\n",
       "      <td>67</td>\n",
       "      <td>89</td>\n",
       "    </tr>\n",
       "    <tr>\n",
       "      <th>16</th>\n",
       "      <td>16</td>\n",
       "      <td>42</td>\n",
       "      <td>79</td>\n",
       "    </tr>\n",
       "    <tr>\n",
       "      <th>17</th>\n",
       "      <td>17</td>\n",
       "      <td>68</td>\n",
       "      <td>106</td>\n",
       "    </tr>\n",
       "    <tr>\n",
       "      <th>18</th>\n",
       "      <td>18</td>\n",
       "      <td>44</td>\n",
       "      <td>97</td>\n",
       "    </tr>\n",
       "    <tr>\n",
       "      <th>19</th>\n",
       "      <td>19</td>\n",
       "      <td>44</td>\n",
       "      <td>93</td>\n",
       "    </tr>\n",
       "    <tr>\n",
       "      <th>20</th>\n",
       "      <td>20</td>\n",
       "      <td>45</td>\n",
       "      <td>105</td>\n",
       "    </tr>\n",
       "    <tr>\n",
       "      <th>21</th>\n",
       "      <td>21</td>\n",
       "      <td>62</td>\n",
       "      <td>84</td>\n",
       "    </tr>\n",
       "    <tr>\n",
       "      <th>22</th>\n",
       "      <td>22</td>\n",
       "      <td>54</td>\n",
       "      <td>104</td>\n",
       "    </tr>\n",
       "    <tr>\n",
       "      <th>23</th>\n",
       "      <td>23</td>\n",
       "      <td>69</td>\n",
       "      <td>91</td>\n",
       "    </tr>\n",
       "  </tbody>\n",
       "</table>\n",
       "</div>"
      ],
      "text/plain": [
       "    hour  bp_min  bp_max\n",
       "0      0      40      80\n",
       "1      1      54      99\n",
       "2      2      65      87\n",
       "3      3      67     108\n",
       "4      4      48     106\n",
       "5      5      58     102\n",
       "6      6      45      97\n",
       "7      7      69     107\n",
       "8      8      63      79\n",
       "9      9      50      80\n",
       "10    10      54     101\n",
       "11    11      67      96\n",
       "12    12      54      89\n",
       "13    13      49     103\n",
       "14    14      56      95\n",
       "15    15      67      89\n",
       "16    16      42      79\n",
       "17    17      68     106\n",
       "18    18      44      97\n",
       "19    19      44      93\n",
       "20    20      45     105\n",
       "21    21      62      84\n",
       "22    22      54     104\n",
       "23    23      69      91"
      ]
     },
     "execution_count": 43,
     "metadata": {},
     "output_type": "execute_result"
    }
   ],
   "source": [
    "df"
   ]
  },
  {
   "cell_type": "code",
   "execution_count": null,
   "metadata": {},
   "outputs": [],
   "source": []
  },
  {
   "cell_type": "code",
   "execution_count": null,
   "metadata": {},
   "outputs": [],
   "source": []
  },
  {
   "cell_type": "code",
   "execution_count": null,
   "metadata": {},
   "outputs": [],
   "source": []
  },
  {
   "cell_type": "code",
   "execution_count": null,
   "metadata": {},
   "outputs": [],
   "source": []
  },
  {
   "cell_type": "code",
   "execution_count": null,
   "metadata": {},
   "outputs": [],
   "source": [
    "\n",
    "# Insert data\n",
    "df_patients.to_sql('patients', conn, index=False)\n",
    "df_admissions.to_sql('admissions', conn, index=False)\n",
    "df_procedures.to_sql('procedures', conn, index=False)\n",
    "df_diagnoses.to_sql('diagnoses', conn, index=False)\n",
    "df_chartevents.to_sql('chartevents', conn, index=False)\n",
    "\n",
    "# Save (commit) the changes\n",
    "conn.commit()\n",
    "\n",
    "# We can also close the connection if we are done with it.\n",
    "# Just be sure any changes have been committed or they will be lost.\n",
    "conn.close()"
   ]
  },
  {
   "cell_type": "code",
   "execution_count": null,
   "metadata": {},
   "outputs": [],
   "source": [
    "\n",
    "\n",
    "os.remove('data/allhealth.db')\n",
    "conn = sqlite3.connect('data/allheath.db')\n",
    "c = conn.cursor()\n",
    "\n",
    "# Create tables\n",
    "c.execute('''CREATE TABLE patients\n",
    "             (patient_id integer primary key, name text, dob date, gender text,\n",
    "              race text, postal_code integer, occupation text, phone integer);''')\n",
    "\n",
    "c.execute('''CREATE TABLE admissions\n",
    "             (hadm_id integer primary key, patient_id integer,\n",
    "              intime datetime, outtime datetime);''')\n",
    "\n",
    "c.execute('''CREATE TABLE procedures\n",
    "             (hadm_id integer, icd9_code integer, clinician_id integer);''')\n",
    "\n",
    "c.execute('''CREATE TABLE diagnoses\n",
    "             (hadm_id integer, icd9_code integer, clinician_id integer);''')\n",
    "\n",
    "c.execute('''CREATE TABLE chartevents\n",
    "             (hadm_id integer, item_id integer, value integer, datetime datetime);''')\n",
    "\n",
    "\n",
    "# Insert data\n",
    "df_patients.to_sql('patients', conn, index=False, if_exists='append')\n",
    "df_admissions.to_sql('admissions', conn, index=False, if_exists='append')\n",
    "df_procedures.to_sql('procedures', conn, index=False, if_exists='append')\n",
    "df_diagnoses.to_sql('diagnoses', conn, index=False, if_exists='append')\n",
    "df_chartevents.to_sql('chartevents', conn, index=False, if_exists='append')\n",
    "\n",
    "# Save (commit) the changes\n",
    "conn.commit()\n",
    "\n",
    "# We can also close the connection if we are done with it.\n",
    "# Just be sure any changes have been committed or they will be lost.\n",
    "conn.close()"
   ]
  },
  {
   "cell_type": "code",
   "execution_count": null,
   "metadata": {},
   "outputs": [],
   "source": []
  },
  {
   "cell_type": "code",
   "execution_count": null,
   "metadata": {},
   "outputs": [],
   "source": []
  },
  {
   "cell_type": "code",
   "execution_count": 3,
   "metadata": {},
   "outputs": [],
   "source": [
    "# Final desired features (and outcome)\n",
    "            # patients\n",
    "features = ['age', 'gender', 'race', 'postal_code', 'occupation',\n",
    "            # diagnoses\n",
    "            'diabetes', 'hiv', 'cancer',\n",
    "            # chartevents\n",
    "            'weight_hosp', 'bp_hosp_min', 'bp_hosp_max',\n",
    "            # bp numerics from wearables\n",
    "            'bp_disch_min', 'bp_disch_max',\n",
    "            # drug claims\n",
    "            'dexamethasone', 'erlotinib'\n",
    "            # symptoms from followup chat\n",
    "            'limb_pain', 'limb_cold', 'vision_change']\n",
    "\n",
    "outcome = ['readmission']\n"
   ]
  },
  {
   "cell_type": "markdown",
   "metadata": {},
   "source": [
    "Q. Write scripts to map the raw data into a set of tables for a reusable research database.\n",
    "\n",
    "Q. Write scripts to get data from the research database into the desired feature\n",
    "   matrix for each patient for this study.\n",
    "   \n",
    "   \n",
    "   \n",
    "Q. Create a reusable research database from the raw data. (Even the relational db. You generally really be using the raw ehr for studies. You may, but in this workshop, we will create a new one.)\n",
    "\n",
    "Q. Extract the desired features for the study cohort from the created research database."
   ]
  },
  {
   "cell_type": "code",
   "execution_count": null,
   "metadata": {},
   "outputs": [],
   "source": []
  },
  {
   "cell_type": "code",
   "execution_count": 2,
   "metadata": {},
   "outputs": [],
   "source": [
    "from sklearn.model_selection import train_test_split"
   ]
  },
  {
   "cell_type": "code",
   "execution_count": 3,
   "metadata": {},
   "outputs": [
    {
     "ename": "NameError",
     "evalue": "name 'features' is not defined",
     "output_type": "error",
     "traceback": [
      "\u001b[0;31m---------------------------------------------------------------------------\u001b[0m",
      "\u001b[0;31mNameError\u001b[0m                                 Traceback (most recent call last)",
      "\u001b[0;32m<ipython-input-3-d6d39fe1a57c>\u001b[0m in \u001b[0;36m<module>\u001b[0;34m()\u001b[0m\n\u001b[1;32m      1\u001b[0m \u001b[0;31m# Split data into training and testing sets\u001b[0m\u001b[0;34m\u001b[0m\u001b[0;34m\u001b[0m\u001b[0m\n\u001b[0;32m----> 2\u001b[0;31m x_train, x_test, y_train, y_test = train_test_split(features[:, :-1], features[:, -1],\n\u001b[0m\u001b[1;32m      3\u001b[0m                                                     \u001b[0mtrain_size\u001b[0m\u001b[0;34m=\u001b[0m\u001b[0;36m0.75\u001b[0m\u001b[0;34m,\u001b[0m \u001b[0mtest_size\u001b[0m\u001b[0;34m=\u001b[0m\u001b[0;36m0.25\u001b[0m\u001b[0;34m,\u001b[0m\u001b[0;34m\u001b[0m\u001b[0m\n\u001b[1;32m      4\u001b[0m                                                     random_state=0)\n\u001b[1;32m      5\u001b[0m \u001b[0mprint\u001b[0m\u001b[0;34m(\u001b[0m\u001b[0;34m'Number of training records: %d'\u001b[0m \u001b[0;34m%\u001b[0m \u001b[0mlen\u001b[0m\u001b[0;34m(\u001b[0m\u001b[0mx_train\u001b[0m\u001b[0;34m)\u001b[0m\u001b[0;34m)\u001b[0m\u001b[0;34m\u001b[0m\u001b[0m\n",
      "\u001b[0;31mNameError\u001b[0m: name 'features' is not defined"
     ]
    }
   ],
   "source": [
    "# Split data into training and testing sets\n",
    "x_train, x_test, y_train, y_test = train_test_split(features[:, :-1], features[:, -1],\n",
    "                                                    train_size=0.75, test_size=0.25,\n",
    "                                                    random_state=0)\n",
    "print('Number of training records: %d' % len(x_train))\n",
    "print('Number of testing records: %d' % len(x_test))\n"
   ]
  },
  {
   "cell_type": "code",
   "execution_count": 6,
   "metadata": {},
   "outputs": [],
   "source": [
    "from sklearn import svm, neighbors\n",
    "from sklearn.ensemble import GradientBoostingClassifier\n",
    "from sklearn.linear_model import LogisticRegression\n",
    "from sklearn.metrics import confusion_matrix, classification_report\n"
   ]
  },
  {
   "cell_type": "code",
   "execution_count": null,
   "metadata": {},
   "outputs": [],
   "source": [
    "# LR\n",
    "clf_lr = LogisticRegression()\n",
    "clf_lr.fit(x_train, y_train)\n",
    "y_predict_lr = clf_lr.predict(x_test)\n",
    "\n",
    "# KNN\n",
    "clf_knn = neighbors.KNeighborsClassifier()\n",
    "clf_knn.fit(x_train, y_train)\n",
    "y_predict_knn = clf_knn.predict(x_test)\n",
    "\n",
    "# SVM\n",
    "clf_svm = svm.SVC()\n",
    "clf_svm.fit(x_train, y_train)\n",
    "y_predict_svm = clf_svm.predict(x_test)\n",
    "\n",
    "# And GB\n",
    "clf_gb = GradientBoostingClassifier()\n",
    "clf_gb.fit(x_train, y_train)\n",
    "y_predict_gb = clf_gb.predict(x_test)"
   ]
  },
  {
   "cell_type": "code",
   "execution_count": null,
   "metadata": {},
   "outputs": [],
   "source": []
  },
  {
   "cell_type": "code",
   "execution_count": null,
   "metadata": {},
   "outputs": [],
   "source": [
    "def confusion_matrix_df(y_true, y_pred):\n",
    "    cm = confusion_matrix(y_true, y_pred)\n",
    "    cm = pd.DataFrame(cm, columns=['Predict 0', 'Predict 1'], index=['Actual 0', 'Actual 1'])\n",
    "    return cm"
   ]
  },
  {
   "cell_type": "code",
   "execution_count": null,
   "metadata": {},
   "outputs": [],
   "source": [
    "print('Logistic Regression')\n",
    "print(classification_report(y_test, y_predict_lr, target_names=['No readmission', 'Readmission']))\n",
    "\n",
    "print('K Nearest Neigbors')\n",
    "print(classification_report(y_test, y_predict_knn, target_names=BEAT_TYPES))\n",
    "\n",
    "print('Support Vector Machines')\n",
    "print(classification_report(y_test, y_predict_svm, target_names=BEAT_TYPES))\n",
    "\n",
    "print('Gradient Boosting')\n",
    "print(classification_report(y_test, y_predict_gb, target_names=BEAT_TYPES))\n"
   ]
  },
  {
   "cell_type": "code",
   "execution_count": null,
   "metadata": {},
   "outputs": [],
   "source": []
  },
  {
   "cell_type": "code",
   "execution_count": null,
   "metadata": {},
   "outputs": [],
   "source": []
  },
  {
   "cell_type": "markdown",
   "metadata": {},
   "source": [
    "- encouraging people to give bad/false data\n",
    "  - ie. falling vs dropping, yes vs no prior issues\n",
    "  - misrepresenting information\n",
    "  - no followup. initial diagnosis only.\n",
    "  - Poor description of injury cause\n",
    "  - providers stating they are giving treatments they are not due to pay by treatment\n",
    " \n",
    "\n",
    "- 150000 claims costing most of the money. Soft tissue injuries. If off work for >3mo, not soft tissue.\n",
    "\n",
    "- Need clinical/ehr info.\n",
    "\n",
    "- Need social data. We don't capture now. Rehab is confounded by home environment. Psychosocial issues or physical issues? Why would provider tell us these issues?\n",
    "\n",
    "- What is ACC's role in addressing these issues, as opposed to just paying for treatment?\n",
    "\n",
    "- many clinical reports come in scanned pdf.\n",
    "\n",
    "- Clinical notes given upon request. Specialist report, high-tech imaging. Treatment injury. Mostly up to ACC discretion. ie. ACL rupture, only request data if they request surgery or are off for a long time.\n",
    "\n",
    "- We tell gp not to put in provisional initial diagnosis. May get declined. GP authorized or not to make certain diagnoses?\n",
    "\n",
    "- We want continuous cases with more and more info. Want the ability to update cases.\n",
    "\n",
    "\n",
    "\n",
    "Goals:\n",
    "- good injury prevention, treatment rehab, compensation. Outcomes?\n",
    "\n",
    "Semi supervised?\n",
    "Trust issues of claims be approved/rejected by algorithms\n",
    "\n"
   ]
  }
 ],
 "metadata": {
  "kernelspec": {
   "display_name": "Python 3",
   "language": "python",
   "name": "python3"
  },
  "language_info": {
   "codemirror_mode": {
    "name": "ipython",
    "version": 3
   },
   "file_extension": ".py",
   "mimetype": "text/x-python",
   "name": "python",
   "nbconvert_exporter": "python",
   "pygments_lexer": "ipython3",
   "version": "3.5.2"
  }
 },
 "nbformat": 4,
 "nbformat_minor": 2
}
