{
 "cells": [
  {
   "cell_type": "code",
   "execution_count": 1,
   "metadata": {},
   "outputs": [],
   "source": [
    "import os\n"
   ]
  },
  {
   "cell_type": "markdown",
   "metadata": {},
   "source": [
    "\n",
    "# Data Cleaning and Analysis\n",
    "'Carotid endarterectomy'"
   ]
  },
  {
   "cell_type": "code",
   "execution_count": null,
   "metadata": {},
   "outputs": [],
   "source": []
  },
  {
   "cell_type": "code",
   "execution_count": null,
   "metadata": {},
   "outputs": [],
   "source": []
  },
  {
   "cell_type": "code",
   "execution_count": null,
   "metadata": {},
   "outputs": [],
   "source": [
    "Files:\n",
    "  \n",
    "EMR\n",
    "- age\n",
    "- gender\n",
    "- race\n",
    "- postal code\n",
    "- diabetes\n",
    "- immunosuppression\n",
    "\n",
    "\n",
    "- medications\n",
    "\n",
    "EMR section appended\n",
    "- pain in limbs\n",
    "- cold in limbs\n",
    "- vision changes\n",
    "- \n",
    "\n",
    "National Income Database\n",
    "- Income\n",
    "\n",
    "Waveform files of bp\n",
    "\n",
    "claims medications"
   ]
  },
  {
   "cell_type": "code",
   "execution_count": null,
   "metadata": {},
   "outputs": [],
   "source": []
  },
  {
   "cell_type": "code",
   "execution_count": 2,
   "metadata": {},
   "outputs": [
    {
     "data": {
      "text/plain": [
       "'Followup after pcp'"
      ]
     },
     "execution_count": 2,
     "metadata": {},
     "output_type": "execute_result"
    }
   ],
   "source": [
    "['age', 'gender', 'race', 'postal_code', 'diabetes', 'immunosuppression', 'hypertension',\n",
    " 'medications', 'social_history', 'income/access to healthcare', 'hyperlipidemia',\n",
    " 'surgical_complication', 'pain in limbs', 'cold in limbs', 'vision_changes']\n",
    "\n",
    "'Followup after 2 weeks.'\n",
    "\n",
    "'Followup after pcp'\n",
    "\n"
   ]
  },
  {
   "cell_type": "code",
   "execution_count": null,
   "metadata": {},
   "outputs": [],
   "source": []
  },
  {
   "cell_type": "code",
   "execution_count": null,
   "metadata": {},
   "outputs": [],
   "source": [
    "# Initial content\n",
    "\n",
    "# patients\n",
    "df1 = ['patient_id', 'name', 'dob', 'gender', 'race', 'postal_code']\n",
    "\n",
    "# labevents\n",
    "df2 = ['patient_id', 'cholesterol', '']\n",
    "\n",
    "# reports\n",
    "df3 = ['patient_id', '']\n",
    "\n",
    "# Waveforms of bp\n",
    "\n",
    "# Medications claims\n",
    "\n"
   ]
  },
  {
   "cell_type": "code",
   "execution_count": null,
   "metadata": {},
   "outputs": [],
   "source": [
    "# Desired features\n",
    "\n",
    "features = ['age', 'gender', 'race', 'postal_code', 'income',\n",
    "            'diabetes', 'cholesterol', 'hiv', 'surgical_complications',\n",
    "            'bp_min', 'bp_max', 'limb_pain',\n",
    "            'limb_cold', 'vision_change']\n",
    "\n",
    "\n",
    "\n"
   ]
  }
 ],
 "metadata": {
  "kernelspec": {
   "display_name": "Python 3",
   "language": "python",
   "name": "python3"
  },
  "language_info": {
   "codemirror_mode": {
    "name": "ipython",
    "version": 3
   },
   "file_extension": ".py",
   "mimetype": "text/x-python",
   "name": "python",
   "nbconvert_exporter": "python",
   "pygments_lexer": "ipython3",
   "version": "3.5.2"
  }
 },
 "nbformat": 4,
 "nbformat_minor": 2
}
