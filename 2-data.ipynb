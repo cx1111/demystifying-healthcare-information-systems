{
 "cells": [
  {
   "cell_type": "code",
   "execution_count": 12,
   "metadata": {},
   "outputs": [],
   "source": [
    "import os\n",
    "import sqlite3\n",
    "\n",
    "import pandas as pd"
   ]
  },
  {
   "cell_type": "markdown",
   "metadata": {},
   "source": [
    "\n",
    "# Data Cleaning and Analysis\n",
    "'Carotid endarterectomy'"
   ]
  },
  {
   "cell_type": "code",
   "execution_count": null,
   "metadata": {},
   "outputs": [],
   "source": [
    "cloud pricing...\n",
    "ml: the study of tools and methods for identifying patterns in data\n",
    "    \n",
    "increase our understanding\n",
    "make predictions"
   ]
  },
  {
   "cell_type": "code",
   "execution_count": null,
   "metadata": {},
   "outputs": [],
   "source": [
    "This problem: target monitoring/prevention/rehab efforts"
   ]
  },
  {
   "cell_type": "code",
   "execution_count": null,
   "metadata": {},
   "outputs": [],
   "source": [
    "Files:\n",
    "  \n",
    "EMR\n",
    "- age\n",
    "- gender\n",
    "- race\n",
    "- postal code\n",
    "- diabetes\n",
    "- immunosuppression\n",
    "\n",
    "\n",
    "- medications\n",
    "\n",
    "EMR section appended\n",
    "- pain in limbs\n",
    "- cold in limbs\n",
    "- vision changes\n",
    "- \n",
    "\n",
    "National Income Database\n",
    "- Income\n",
    "\n",
    "Waveform files of bp\n",
    "\n",
    "claims medications"
   ]
  },
  {
   "cell_type": "code",
   "execution_count": null,
   "metadata": {},
   "outputs": [],
   "source": [
    "\n"
   ]
  },
  {
   "cell_type": "code",
   "execution_count": null,
   "metadata": {},
   "outputs": [],
   "source": [
    "# Collected Data\n",
    "\n",
    "# 1. EHR tables in a relational database. Stored in `ehr/ehr.db`\n",
    "patients = ['patient_id', 'name', 'dob', 'gender', 'race', 'postal_code', 'occupation', 'phone']\n",
    "\n",
    "admissions = ['patient_id', 'hadm_id', 'intime', 'outtime']\n",
    "\n",
    "procedures = ['hadm_id', 'icd9_code', 'clinician_id']\n",
    "\n",
    "diagnoses = ['hadm_id', 'icd9_code', 'clinician_id']\n",
    "\n",
    "chartevents = ['hadm_id', 'item_id', 'value', 'datetime']\n",
    "\n",
    "d_procedures = {3000:'Carotid endarterectomy'}\n",
    "d_diagnoses = {10000:'diabetes', 10001:'hiv', 10002:'cancer'}\n",
    "d_chartevents = {2000:'weight', 2001:'abp'}\n",
    "\n",
    "\n",
    "# 2. Streamed blood pressure numberics from wearable device.\n",
    "# Stored in csv files: `blood-pressure/<patient_id>-<date>.csv`.\n",
    "# Aggregated hourly data. Each patients have recordings both before and after their procedure.\n",
    "\n",
    "# example format:\n",
    "\"\"\"\n",
    "hour,bp_min,bp_max\n",
    "0,70,72\n",
    "...\n",
    "23,45,60\n",
    "\"\"\"\n",
    "\n",
    "# 3. Pharmacy orders. Stored in text files: pharmacy/NNNNNN.txt\n",
    "\n",
    "# example format:\n",
    "\"\"\"\n",
    "Date:YYYY-MM-DD\n",
    "Patient ID: \n",
    "Pharmacy: \n",
    "Drug: dexamethasone/erlotinib/other\n",
    "\"\"\"\n",
    "\n"
   ]
  },
  {
   "cell_type": "code",
   "execution_count": null,
   "metadata": {},
   "outputs": [],
   "source": [
    "# Research database tables\n",
    "\n",
    "# Removed name, phone\n",
    "patients = ['patient_id', 'dob', 'gender', 'race', 'postal_code', 'occupation'] \n",
    "\n",
    "admissions = ['patient_id', 'hadm_id', 'intime', 'outtime']\n",
    "\n",
    "# Removed clinician_id\n",
    "procedures = ['hadm_id', 'icd9_code'] \n",
    "\n",
    "# Removed clinician_id\n",
    "diagnoses = ['hadm_id', 'icd9_code']\n",
    "\n",
    "chartevents = ['hadm_id', 'item_id', 'value', 'datetime']\n",
    "\n",
    "devicestream = ['patient_id', 'datetime', 'bp_min', 'bp_max']\n",
    "\n",
    "medications = ['patient_id', 'datetime', 'drug']\n"
   ]
  },
  {
   "cell_type": "markdown",
   "metadata": {},
   "source": [
    "## Task: Combine the disparate data sources to create a single usable sharable research database"
   ]
  },
  {
   "cell_type": "code",
   "execution_count": 24,
   "metadata": {},
   "outputs": [],
   "source": [
    "# os.remove('data/allhealth.db')\n",
    "conn = sqlite3.connect('data/allheath.db')\n",
    "c = conn.cursor()"
   ]
  },
  {
   "cell_type": "code",
   "execution_count": 34,
   "metadata": {},
   "outputs": [],
   "source": [
    "# Step 1 - Transfer the EHR data into the combined research database\n",
    "\n",
    "# Read the data from the EHR\n",
    "conn_ehr = sqlite3.connect('data/example-data-lake/ehr/ehr.db')\n",
    "\n",
    "df_patients = pd.read_sql_query('select * from patients;', conn_ehr)\n",
    "df_admissions = pd.read_sql_query('select * from admissions;', conn_ehr)\n",
    "df_procedures = pd.read_sql_query('select * from procedures;', conn_ehr)\n",
    "df_diagnoses = pd.read_sql_query('select * from diagnoses;', conn_ehr)\n",
    "df_chartevents = pd.read_sql_query('select * from chartevents;', conn_ehr)\n",
    "\n",
    "conn_ehr.close()\n",
    "\n",
    "# Remove the unwanted columns\n",
    "del(df_patients['name'])\n",
    "del(df_patients['phone'])\n",
    "\n",
    "del(df_procedures['clinician_id'])\n",
    "del(df_diagnoses['clinician_id'])\n"
   ]
  },
  {
   "cell_type": "code",
   "execution_count": 37,
   "metadata": {},
   "outputs": [
    {
     "data": {
      "text/html": [
       "<div>\n",
       "<style scoped>\n",
       "    .dataframe tbody tr th:only-of-type {\n",
       "        vertical-align: middle;\n",
       "    }\n",
       "\n",
       "    .dataframe tbody tr th {\n",
       "        vertical-align: top;\n",
       "    }\n",
       "\n",
       "    .dataframe thead th {\n",
       "        text-align: right;\n",
       "    }\n",
       "</style>\n",
       "<table border=\"1\" class=\"dataframe\">\n",
       "  <thead>\n",
       "    <tr style=\"text-align: right;\">\n",
       "      <th></th>\n",
       "      <th>hadm_id</th>\n",
       "      <th>item_id</th>\n",
       "      <th>value</th>\n",
       "      <th>datetime</th>\n",
       "    </tr>\n",
       "  </thead>\n",
       "  <tbody>\n",
       "    <tr>\n",
       "      <th>0</th>\n",
       "      <td>50001</td>\n",
       "      <td>2000</td>\n",
       "      <td>102</td>\n",
       "      <td>2018-01-01 02:00:00</td>\n",
       "    </tr>\n",
       "    <tr>\n",
       "      <th>1</th>\n",
       "      <td>50001</td>\n",
       "      <td>2001</td>\n",
       "      <td>50</td>\n",
       "      <td>2018-01-01 03:00:00</td>\n",
       "    </tr>\n",
       "    <tr>\n",
       "      <th>2</th>\n",
       "      <td>50001</td>\n",
       "      <td>2001</td>\n",
       "      <td>75</td>\n",
       "      <td>2018-01-01 04:00:00</td>\n",
       "    </tr>\n",
       "    <tr>\n",
       "      <th>3</th>\n",
       "      <td>50002</td>\n",
       "      <td>2000</td>\n",
       "      <td>100</td>\n",
       "      <td>2018-01-01 02:00:00</td>\n",
       "    </tr>\n",
       "    <tr>\n",
       "      <th>4</th>\n",
       "      <td>50002</td>\n",
       "      <td>2001</td>\n",
       "      <td>22</td>\n",
       "      <td>2018-01-01 03:00:00</td>\n",
       "    </tr>\n",
       "  </tbody>\n",
       "</table>\n",
       "</div>"
      ],
      "text/plain": [
       "   hadm_id  item_id  value             datetime\n",
       "0    50001     2000    102  2018-01-01 02:00:00\n",
       "1    50001     2001     50  2018-01-01 03:00:00\n",
       "2    50001     2001     75  2018-01-01 04:00:00\n",
       "3    50002     2000    100  2018-01-01 02:00:00\n",
       "4    50002     2001     22  2018-01-01 03:00:00"
      ]
     },
     "execution_count": 37,
     "metadata": {},
     "output_type": "execute_result"
    }
   ],
   "source": [
    "df_chartevents.head()"
   ]
  },
  {
   "cell_type": "code",
   "execution_count": null,
   "metadata": {},
   "outputs": [],
   "source": []
  },
  {
   "cell_type": "code",
   "execution_count": null,
   "metadata": {},
   "outputs": [],
   "source": [
    "\n",
    "# Insert data\n",
    "df_patients.to_sql('patients', conn, index=False)\n",
    "df_admissions.to_sql('admissions', conn, index=False)\n",
    "df_procedures.to_sql('procedures', conn, index=False)\n",
    "df_diagnoses.to_sql('diagnoses', conn, index=False)\n",
    "df_chartevents.to_sql('chartevents', conn, index=False)\n",
    "\n",
    "# Save (commit) the changes\n",
    "conn.commit()\n",
    "\n",
    "# We can also close the connection if we are done with it.\n",
    "# Just be sure any changes have been committed or they will be lost.\n",
    "conn.close()"
   ]
  },
  {
   "cell_type": "code",
   "execution_count": null,
   "metadata": {},
   "outputs": [],
   "source": [
    "\n",
    "\n",
    "os.remove('data/allhealth.db')\n",
    "conn = sqlite3.connect('data/allheath.db')\n",
    "c = conn.cursor()\n",
    "\n",
    "# Create tables\n",
    "c.execute('''CREATE TABLE patients\n",
    "             (patient_id integer primary key, name text, dob date, gender text,\n",
    "              race text, postal_code integer, occupation text, phone integer);''')\n",
    "\n",
    "c.execute('''CREATE TABLE admissions\n",
    "             (hadm_id integer primary key, patient_id integer,\n",
    "              intime datetime, outtime datetime);''')\n",
    "\n",
    "c.execute('''CREATE TABLE procedures\n",
    "             (hadm_id integer, icd9_code integer, clinician_id integer);''')\n",
    "\n",
    "c.execute('''CREATE TABLE diagnoses\n",
    "             (hadm_id integer, icd9_code integer, clinician_id integer);''')\n",
    "\n",
    "c.execute('''CREATE TABLE chartevents\n",
    "             (hadm_id integer, item_id integer, value integer, datetime datetime);''')\n",
    "\n",
    "\n",
    "# Insert data\n",
    "df_patients.to_sql('patients', conn, index=False, if_exists='append')\n",
    "df_admissions.to_sql('admissions', conn, index=False, if_exists='append')\n",
    "df_procedures.to_sql('procedures', conn, index=False, if_exists='append')\n",
    "df_diagnoses.to_sql('diagnoses', conn, index=False, if_exists='append')\n",
    "df_chartevents.to_sql('chartevents', conn, index=False, if_exists='append')\n",
    "\n",
    "# Save (commit) the changes\n",
    "conn.commit()\n",
    "\n",
    "# We can also close the connection if we are done with it.\n",
    "# Just be sure any changes have been committed or they will be lost.\n",
    "conn.close()"
   ]
  },
  {
   "cell_type": "code",
   "execution_count": null,
   "metadata": {},
   "outputs": [],
   "source": []
  },
  {
   "cell_type": "code",
   "execution_count": null,
   "metadata": {},
   "outputs": [],
   "source": []
  },
  {
   "cell_type": "code",
   "execution_count": 3,
   "metadata": {},
   "outputs": [],
   "source": [
    "# Final desired features (and outcome)\n",
    "            # patients\n",
    "features = ['age', 'gender', 'race', 'postal_code', 'occupation',\n",
    "            # diagnoses\n",
    "            'diabetes', 'hiv', 'cancer',\n",
    "            # chartevents\n",
    "            'weight_hosp', 'bp_hosp_min', 'bp_hosp_max',\n",
    "            # bp numerics from wearables\n",
    "            'bp_disch_min', 'bp_disch_max',\n",
    "            # drug claims\n",
    "            'dexamethasone', 'erlotinib'\n",
    "            # symptoms from followup chat\n",
    "            'limb_pain', 'limb_cold', 'vision_change']\n",
    "\n",
    "outcome = ['readmission']\n"
   ]
  },
  {
   "cell_type": "markdown",
   "metadata": {},
   "source": [
    "Q. Write scripts to map the raw data into a set of tables for a reusable research database.\n",
    "\n",
    "Q. Write scripts to get data from the research database into the desired feature\n",
    "   matrix for each patient for this study.\n",
    "   \n",
    "   \n",
    "   \n",
    "Q. Create a reusable research database from the raw data. (Even the relational db. You generally really be using the raw ehr for studies. You may, but in this workshop, we will create a new one.)\n",
    "\n",
    "Q. Extract the desired features for the study cohort from the created research database."
   ]
  },
  {
   "cell_type": "code",
   "execution_count": null,
   "metadata": {},
   "outputs": [],
   "source": []
  },
  {
   "cell_type": "code",
   "execution_count": 2,
   "metadata": {},
   "outputs": [],
   "source": [
    "from sklearn.model_selection import train_test_split"
   ]
  },
  {
   "cell_type": "code",
   "execution_count": 3,
   "metadata": {},
   "outputs": [
    {
     "ename": "NameError",
     "evalue": "name 'features' is not defined",
     "output_type": "error",
     "traceback": [
      "\u001b[0;31m---------------------------------------------------------------------------\u001b[0m",
      "\u001b[0;31mNameError\u001b[0m                                 Traceback (most recent call last)",
      "\u001b[0;32m<ipython-input-3-d6d39fe1a57c>\u001b[0m in \u001b[0;36m<module>\u001b[0;34m()\u001b[0m\n\u001b[1;32m      1\u001b[0m \u001b[0;31m# Split data into training and testing sets\u001b[0m\u001b[0;34m\u001b[0m\u001b[0;34m\u001b[0m\u001b[0m\n\u001b[0;32m----> 2\u001b[0;31m x_train, x_test, y_train, y_test = train_test_split(features[:, :-1], features[:, -1],\n\u001b[0m\u001b[1;32m      3\u001b[0m                                                     \u001b[0mtrain_size\u001b[0m\u001b[0;34m=\u001b[0m\u001b[0;36m0.75\u001b[0m\u001b[0;34m,\u001b[0m \u001b[0mtest_size\u001b[0m\u001b[0;34m=\u001b[0m\u001b[0;36m0.25\u001b[0m\u001b[0;34m,\u001b[0m\u001b[0;34m\u001b[0m\u001b[0m\n\u001b[1;32m      4\u001b[0m                                                     random_state=0)\n\u001b[1;32m      5\u001b[0m \u001b[0mprint\u001b[0m\u001b[0;34m(\u001b[0m\u001b[0;34m'Number of training records: %d'\u001b[0m \u001b[0;34m%\u001b[0m \u001b[0mlen\u001b[0m\u001b[0;34m(\u001b[0m\u001b[0mx_train\u001b[0m\u001b[0;34m)\u001b[0m\u001b[0;34m)\u001b[0m\u001b[0;34m\u001b[0m\u001b[0m\n",
      "\u001b[0;31mNameError\u001b[0m: name 'features' is not defined"
     ]
    }
   ],
   "source": [
    "# Split data into training and testing sets\n",
    "x_train, x_test, y_train, y_test = train_test_split(features[:, :-1], features[:, -1],\n",
    "                                                    train_size=0.75, test_size=0.25,\n",
    "                                                    random_state=0)\n",
    "print('Number of training records: %d' % len(x_train))\n",
    "print('Number of testing records: %d' % len(x_test))\n"
   ]
  },
  {
   "cell_type": "code",
   "execution_count": 6,
   "metadata": {},
   "outputs": [],
   "source": [
    "from sklearn import svm, neighbors\n",
    "from sklearn.ensemble import GradientBoostingClassifier\n",
    "from sklearn.linear_model import LogisticRegression\n",
    "from sklearn.metrics import confusion_matrix, classification_report\n"
   ]
  },
  {
   "cell_type": "code",
   "execution_count": null,
   "metadata": {},
   "outputs": [],
   "source": [
    "# LR\n",
    "clf_lr = LogisticRegression()\n",
    "clf_lr.fit(x_train, y_train)\n",
    "y_predict_lr = clf_lr.predict(x_test)\n",
    "\n",
    "# KNN\n",
    "clf_knn = neighbors.KNeighborsClassifier()\n",
    "clf_knn.fit(x_train, y_train)\n",
    "y_predict_knn = clf_knn.predict(x_test)\n",
    "\n",
    "# SVM\n",
    "clf_svm = svm.SVC()\n",
    "clf_svm.fit(x_train, y_train)\n",
    "y_predict_svm = clf_svm.predict(x_test)\n",
    "\n",
    "# And GB\n",
    "clf_gb = GradientBoostingClassifier()\n",
    "clf_gb.fit(x_train, y_train)\n",
    "y_predict_gb = clf_gb.predict(x_test)"
   ]
  },
  {
   "cell_type": "code",
   "execution_count": null,
   "metadata": {},
   "outputs": [],
   "source": []
  },
  {
   "cell_type": "code",
   "execution_count": null,
   "metadata": {},
   "outputs": [],
   "source": [
    "def confusion_matrix_df(y_true, y_pred):\n",
    "    cm = confusion_matrix(y_true, y_pred)\n",
    "    cm = pd.DataFrame(cm, columns=['Predict 0', 'Predict 1'], index=['Actual 0', 'Actual 1'])\n",
    "    return cm"
   ]
  },
  {
   "cell_type": "code",
   "execution_count": null,
   "metadata": {},
   "outputs": [],
   "source": [
    "print('Logistic Regression')\n",
    "print(classification_report(y_test, y_predict_lr, target_names=['No readmission', 'Readmission']))\n",
    "\n",
    "print('K Nearest Neigbors')\n",
    "print(classification_report(y_test, y_predict_knn, target_names=BEAT_TYPES))\n",
    "\n",
    "print('Support Vector Machines')\n",
    "print(classification_report(y_test, y_predict_svm, target_names=BEAT_TYPES))\n",
    "\n",
    "print('Gradient Boosting')\n",
    "print(classification_report(y_test, y_predict_gb, target_names=BEAT_TYPES))\n"
   ]
  },
  {
   "cell_type": "code",
   "execution_count": null,
   "metadata": {},
   "outputs": [],
   "source": []
  },
  {
   "cell_type": "code",
   "execution_count": null,
   "metadata": {},
   "outputs": [],
   "source": []
  },
  {
   "cell_type": "markdown",
   "metadata": {},
   "source": [
    "- encouraging people to give bad/false data\n",
    "  - ie. falling vs dropping, yes vs no prior issues\n",
    "  - misrepresenting information\n",
    "  - no followup. initial diagnosis only.\n",
    "  - Poor description of injury cause\n",
    "  - providers stating they are giving treatments they are not due to pay by treatment\n",
    " \n",
    "\n",
    "- 150000 claims costing most of the money. Soft tissue injuries. If off work for >3mo, not soft tissue.\n",
    "\n",
    "- Need clinical/ehr info.\n",
    "\n",
    "- Need social data. We don't capture now. Rehab is confounded by home environment. Psychosocial issues or physical issues? Why would provider tell us these issues?\n",
    "\n",
    "- What is ACC's role in addressing these issues, as opposed to just paying for treatment?\n",
    "\n",
    "- many clinical reports come in scanned pdf.\n",
    "\n",
    "- Clinical notes given upon request. Specialist report, high-tech imaging. Treatment injury. Mostly up to ACC discretion. ie. ACL rupture, only request data if they request surgery or are off for a long time.\n",
    "\n",
    "- We tell gp not to put in provisional initial diagnosis. May get declined. GP authorized or not to make certain diagnoses?\n",
    "\n",
    "- We want continuous cases with more and more info. Want the ability to update cases.\n",
    "\n",
    "\n",
    "\n",
    "Goals:\n",
    "- good injury prevention, treatment rehab, compensation. Outcomes?\n",
    "\n",
    "Semi supervised?\n",
    "Trust issues of claims be approved/rejected by algorithms\n",
    "\n"
   ]
  }
 ],
 "metadata": {
  "kernelspec": {
   "display_name": "Python 3",
   "language": "python",
   "name": "python3"
  },
  "language_info": {
   "codemirror_mode": {
    "name": "ipython",
    "version": 3
   },
   "file_extension": ".py",
   "mimetype": "text/x-python",
   "name": "python",
   "nbconvert_exporter": "python",
   "pygments_lexer": "ipython3",
   "version": "3.5.2"
  }
 },
 "nbformat": 4,
 "nbformat_minor": 2
}
