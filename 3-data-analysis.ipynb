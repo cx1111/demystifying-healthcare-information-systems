{
 "cells": [
  {
   "cell_type": "code",
   "execution_count": 1,
   "metadata": {},
   "outputs": [],
   "source": [
    "import os\n",
    "import sqlite3"
   ]
  },
  {
   "cell_type": "code",
   "execution_count": 5,
   "metadata": {},
   "outputs": [],
   "source": [
    "# Recall the table structure of our new combined research database\n",
    "\n",
    "patients = ['patient_id', 'dob', 'gender', 'race', 'postal_code', 'occupation'] \n",
    "admissions = ['patient_id', 'hadm_id', 'intime', 'outtime']\n",
    "procedures = ['hadm_id', 'icd9_code'] \n",
    "diagnoses = ['hadm_id', 'icd9_code']\n",
    "chartevents = ['hadm_id', 'item_id', 'value', 'datetime']\n",
    "bpstream = ['patient_id', 'datetime', 'bp_min', 'bp_max']\n",
    "medications = ['patient_id', 'datetime', 'drug']\n",
    "\n",
    "# And the following dictionaries for codes\n",
    "d_procedures = {3000:'Carotid endarterectomy'}\n",
    "d_diagnoses = {10000:'diabetes', 10001:'hiv', 10002:'cancer'}\n",
    "d_chartevents = {2000:'weight', 2001:'abp'}"
   ]
  },
  {
   "cell_type": "code",
   "execution_count": null,
   "metadata": {},
   "outputs": [],
   "source": [
    "# We want to end up with one table of features. Each row contains all the features \n",
    "# for one patient\n",
    "\n",
    "# Final desired features (and outcome) for each patient.\n",
    "\n",
    "features = [\n",
    "    'age', 'gender', 'race', 'postal_code', 'occupation',\n",
    "    # diagnoses\n",
    "    'diabetes', 'hiv', 'cancer',\n",
    "    # chartevents\n",
    "    'weight_hosp', 'bp_hosp_min', 'bp_hosp_max',\n",
    "    # bp numerics from wearables\n",
    "    'bp_disch_min', 'bp_disch_max',\n",
    "    # medications\n",
    "    'dexamethasone', 'erlotinib'\n",
    "    # outcome\n",
    "    'readmission'\n",
    "]\n"
   ]
  },
  {
   "cell_type": "code",
   "execution_count": null,
   "metadata": {},
   "outputs": [],
   "source": [
    "# Data Extraction\n",
    "\n",
    "# Cohort: Patients who received carotid endartorectomy\n",
    "\n",
    "# Get the hadms with the endartorectory procedure\n",
    "\n",
    "/* Combine with the demographic information */\n",
    "\n",
    "\n",
    "with t0 as(\n",
    "    select pr.hadm_id, a.intime, a.outtime, a.patient_id\n",
    "    from procedures pr\n",
    "    left join admissions a on pr.hadm_id = a.hadm_id\n",
    "    where pr.icd9_code = 3000\n",
    "),\n",
    "-- Get the demographic info of the patients\n",
    "t1 as( \n",
    "    select t0.patient_id, t0.hadm_id, t0.intime, t0.outtime,\n",
    "        p.gender, p.race, p.postal_code, p.occupation,\n",
    "        Cast((JulianDay(t0.outtime) - JulianDay(p.dob)) / 365 as float) age\n",
    "    from t0\n",
    "    left join patients p on t0.patient_id = p.patient_id\n",
    "),\n",
    "-- Get the weights\n",
    "weights as(\n",
    "    select hadm_id, max(value) weight\n",
    "    from chartevents\n",
    "    where item_id == 2000\n",
    "    group by hadm_id\n",
    "),\n",
    "-- Get the max and min bps during the admission\n",
    "bphospital as( \n",
    "    select hadm_id, max(value) bp_hosp_max, min(value) bp_hosp_min\n",
    "    from chartevents\n",
    "    where item_id == 2001\n",
    "    group by hadm_id\n",
    "),\n",
    "-- For each hadm_id, get whether diagnoses were made\n",
    "comorbidities as (  \n",
    "    select hadm_id, \n",
    "        max(case icd9_code when 10000 then 1 else 0 end) diabetes,\n",
    "        max(case icd9_code when 10001 then 1 else 0 end) hiv,\n",
    "        max(case icd9_code when 10002 then 1 else 0 end) cancer\n",
    "    from diagnoses\n",
    "    group by hadm_id\n",
    "),\n",
    "-- Get the desired medications\n",
    "drugs as(\n",
    "    select patient_id, datetime,\n",
    "        max(case drug when 'Dexamethasone' then 1 else 0 end) dexamethasone,\n",
    "        max(case drug when 'Erlotinib' then 1 else 0 end) erlotinib\n",
    "    from medications\n",
    "    group by patient_id\n",
    ")\n",
    "\n",
    "\n",
    "\n",
    "select * from bpwearable;\n",
    "\n",
    "select *\n",
    "from bpstream\n",
    "group by patient_id\n",
    "\n",
    "\n",
    "\n",
    "\n",
    "\n",
    "    \n",
    "    "
   ]
  },
  {
   "cell_type": "code",
   "execution_count": null,
   "metadata": {},
   "outputs": [],
   "source": []
  },
  {
   "cell_type": "code",
   "execution_count": null,
   "metadata": {},
   "outputs": [],
   "source": []
  },
  {
   "cell_type": "code",
   "execution_count": null,
   "metadata": {},
   "outputs": [],
   "source": []
  },
  {
   "cell_type": "code",
   "execution_count": null,
   "metadata": {},
   "outputs": [],
   "source": []
  },
  {
   "cell_type": "code",
   "execution_count": 4,
   "metadata": {},
   "outputs": [],
   "source": [
    "from sklearn import svm, neighbors\n",
    "from sklearn.ensemble import GradientBoostingClassifier\n",
    "from sklearn.linear_model import LogisticRegression\n",
    "from sklearn.metrics import confusion_matrix, classification_report\n",
    "from sklearn.model_selection import train_test_split"
   ]
  },
  {
   "cell_type": "code",
   "execution_count": null,
   "metadata": {},
   "outputs": [],
   "source": [
    "# Split data into training and testing sets\n",
    "x_train, x_test, y_train, y_test = train_test_split(features[:, :-1], features[:, -1],\n",
    "                                                    train_size=0.75, test_size=0.25,\n",
    "                                                    random_state=0)\n",
    "print('Number of training records: %d' % len(x_train))\n",
    "print('Number of testing records: %d' % len(x_test))\n"
   ]
  }
 ],
 "metadata": {
  "kernelspec": {
   "display_name": "Python 3",
   "language": "python",
   "name": "python3"
  },
  "language_info": {
   "codemirror_mode": {
    "name": "ipython",
    "version": 3
   },
   "file_extension": ".py",
   "mimetype": "text/x-python",
   "name": "python",
   "nbconvert_exporter": "python",
   "pygments_lexer": "ipython3",
   "version": "3.5.2"
  }
 },
 "nbformat": 4,
 "nbformat_minor": 2
}
