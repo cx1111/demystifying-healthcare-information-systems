{
 "cells": [
  {
   "cell_type": "code",
   "execution_count": 65,
   "metadata": {},
   "outputs": [],
   "source": [
    "# Simulating data for the data lake\n",
    "\n",
    "from collections import OrderedDict\n",
    "import datetime\n",
    "import json\n",
    "import os\n",
    "import random\n",
    "import sqlite3\n",
    "import string\n",
    "import struct\n",
    "\n",
    "import names\n",
    "import pandas as pd"
   ]
  },
  {
   "cell_type": "code",
   "execution_count": 63,
   "metadata": {},
   "outputs": [],
   "source": [
    "# [random.choice(range(17810000000, 17819999999)) for _ in range(100)]"
   ]
  },
  {
   "cell_type": "code",
   "execution_count": null,
   "metadata": {},
   "outputs": [],
   "source": []
  },
  {
   "cell_type": "code",
   "execution_count": null,
   "metadata": {},
   "outputs": [],
   "source": []
  },
  {
   "cell_type": "code",
   "execution_count": null,
   "metadata": {},
   "outputs": [],
   "source": [
    "\n",
    "\n",
    "\n",
    "\n"
   ]
  },
  {
   "cell_type": "code",
   "execution_count": null,
   "metadata": {},
   "outputs": [],
   "source": []
  },
  {
   "cell_type": "code",
   "execution_count": null,
   "metadata": {},
   "outputs": [],
   "source": []
  },
  {
   "cell_type": "code",
   "execution_count": null,
   "metadata": {},
   "outputs": [],
   "source": [
    "'patient_id', 'name', 'dob', 'gender', 'race', 'postal_code', 'occupation',\n",
    "       'phone', 'email'"
   ]
  },
  {
   "cell_type": "code",
   "execution_count": 86,
   "metadata": {},
   "outputs": [],
   "source": [
    "genders = [random.choice(['male', 'female']) for _ in range(400)]\n",
    "\n",
    "df_patients = pd.DataFrame(OrderedDict([\n",
    "    ('patient_id', range(1, 401)), ('name', [names.get_full_name(gender=g) for g in genders]),\n",
    "    ('dob', [datetime.datetime(random.choice(range(1950, 2000)), 1, 1, 1) for _ in range(400)]),\n",
    "    ('gender', genders), ('race', [random.choice(['asian', 'black', 'white', 'hispanic', 'native_american']) for _ in range(400)]),\n",
    "    ('postal_code', [random.choice(range(40000, 45000)) for _ in range(400)]),\n",
    "    ('occupation', [random.choice(['builder', 'teacher', 'firefighter', 'engineer', 'doctor']) for _ in range(400)]),\n",
    "    ('phone', [random.choice(range(17810000000, 17819999999)) for _ in range(400)]),\n",
    "]))"
   ]
  },
  {
   "cell_type": "code",
   "execution_count": 83,
   "metadata": {},
   "outputs": [],
   "source": [
    "df_admissions = pd.DataFrame(OrderedDict([\n",
    "    ('hadm_id', range(50001, 50401)),\n",
    "    ('patient_id', range(1, 401)),\n",
    "    ('intime', [datetime.datetime(2018, 1, 1, 1)]*400),\n",
    "    ('outtime', [datetime.datetime(2018, 2, 1, 1)]*400)\n",
    "]))"
   ]
  },
  {
   "cell_type": "code",
   "execution_count": null,
   "metadata": {},
   "outputs": [],
   "source": [
    "df_procedures = pd.DataFrame(OrderedDict([\n",
    "    ('hadm_id', range(50001, 50101)),\n",
    "    ('icd9_code', range(1, 101)),\n",
    "    ('clinician_id', [datetime.datetime(2018, 1, 1, 1)]*100),\n",
    "]))\n",
    "\n",
    "'hadm_id', 'icd9_code', 'clinician_id'"
   ]
  },
  {
   "cell_type": "code",
   "execution_count": null,
   "metadata": {},
   "outputs": [],
   "source": []
  },
  {
   "cell_type": "code",
   "execution_count": 84,
   "metadata": {},
   "outputs": [
    {
     "data": {
      "text/html": [
       "<div>\n",
       "<style scoped>\n",
       "    .dataframe tbody tr th:only-of-type {\n",
       "        vertical-align: middle;\n",
       "    }\n",
       "\n",
       "    .dataframe tbody tr th {\n",
       "        vertical-align: top;\n",
       "    }\n",
       "\n",
       "    .dataframe thead th {\n",
       "        text-align: right;\n",
       "    }\n",
       "</style>\n",
       "<table border=\"1\" class=\"dataframe\">\n",
       "  <thead>\n",
       "    <tr style=\"text-align: right;\">\n",
       "      <th></th>\n",
       "      <th>hadm_id</th>\n",
       "      <th>patient_id</th>\n",
       "      <th>intime</th>\n",
       "      <th>outtime</th>\n",
       "    </tr>\n",
       "  </thead>\n",
       "  <tbody>\n",
       "    <tr>\n",
       "      <th>0</th>\n",
       "      <td>50001</td>\n",
       "      <td>1</td>\n",
       "      <td>2018-01-01 01:00:00</td>\n",
       "      <td>2018-02-01 01:00:00</td>\n",
       "    </tr>\n",
       "    <tr>\n",
       "      <th>1</th>\n",
       "      <td>50002</td>\n",
       "      <td>2</td>\n",
       "      <td>2018-01-01 01:00:00</td>\n",
       "      <td>2018-02-01 01:00:00</td>\n",
       "    </tr>\n",
       "    <tr>\n",
       "      <th>2</th>\n",
       "      <td>50003</td>\n",
       "      <td>3</td>\n",
       "      <td>2018-01-01 01:00:00</td>\n",
       "      <td>2018-02-01 01:00:00</td>\n",
       "    </tr>\n",
       "    <tr>\n",
       "      <th>3</th>\n",
       "      <td>50004</td>\n",
       "      <td>4</td>\n",
       "      <td>2018-01-01 01:00:00</td>\n",
       "      <td>2018-02-01 01:00:00</td>\n",
       "    </tr>\n",
       "    <tr>\n",
       "      <th>4</th>\n",
       "      <td>50005</td>\n",
       "      <td>5</td>\n",
       "      <td>2018-01-01 01:00:00</td>\n",
       "      <td>2018-02-01 01:00:00</td>\n",
       "    </tr>\n",
       "  </tbody>\n",
       "</table>\n",
       "</div>"
      ],
      "text/plain": [
       "   hadm_id  patient_id              intime             outtime\n",
       "0    50001           1 2018-01-01 01:00:00 2018-02-01 01:00:00\n",
       "1    50002           2 2018-01-01 01:00:00 2018-02-01 01:00:00\n",
       "2    50003           3 2018-01-01 01:00:00 2018-02-01 01:00:00\n",
       "3    50004           4 2018-01-01 01:00:00 2018-02-01 01:00:00\n",
       "4    50005           5 2018-01-01 01:00:00 2018-02-01 01:00:00"
      ]
     },
     "execution_count": 84,
     "metadata": {},
     "output_type": "execute_result"
    }
   ],
   "source": [
    "df_admissions.head()"
   ]
  },
  {
   "cell_type": "code",
   "execution_count": 17,
   "metadata": {},
   "outputs": [
    {
     "data": {
      "text/plain": [
       "[[1, 'jack'], [2, 'jack'], [3, 'jack']]"
      ]
     },
     "execution_count": 17,
     "metadata": {},
     "output_type": "execute_result"
    }
   ],
   "source": [
    "df_patients.values.tolist()"
   ]
  },
  {
   "cell_type": "code",
   "execution_count": 11,
   "metadata": {},
   "outputs": [],
   "source": [
    "# The connection object represents the database\n",
    "os.remove('data/example-data-lake/ehr/ehr.db')\n",
    "conn = sqlite3.connect('data/example-data-lake/ehr/ehr.db')\n",
    "c = conn.cursor()\n",
    "\n",
    "# Create tables\n",
    "c.execute('''CREATE TABLE patients\n",
    "             (patient_id integer primary key, name text, dob date, gender text,\n",
    "              race text, postal_code integer, occupation text, phone integer,\n",
    "              email text);''')\n",
    "\n",
    "c.execute('''CREATE TABLE admissions\n",
    "             (hadm_id integer primary key, patient_id integer,\n",
    "              intime datetime, outtime datetime);''')\n",
    "\n",
    "c.execute('''CREATE TABLE procedures\n",
    "             (hadm_id integer, icd9_code integer, clinician_id integer);''')\n",
    "\n",
    "c.execute('''CREATE TABLE diagnoses\n",
    "             (hadm_id, icd9_code, clinician_id);''')\n",
    "\n",
    "c.execute('''CREATE TABLE chartevents\n",
    "             (hadm_id, item_id, datetime);''')\n",
    "\n",
    "\n",
    "# Insert data\n",
    "c.executemany(\"INSERT INTO employees VALUES (?, ?, ?, ?)\", df_patients.values.tolist())\n",
    "# c.executemany(\"INSERT INTO reviews VALUES (?, ?, ?, ?)\", df_reviews.values.tolist())\n",
    "# c.executemany(\"INSERT INTO bonuses VALUES (?, ?, ?)\", df_bonuses.values.tolist())\n",
    "\n",
    "# Save (commit) the changes\n",
    "conn.commit()\n",
    "\n",
    "# We can also close the connection if we are done with it.\n",
    "# Just be sure any changes have been committed or they will be lost.\n",
    "conn.close()"
   ]
  },
  {
   "cell_type": "code",
   "execution_count": null,
   "metadata": {},
   "outputs": [],
   "source": []
  },
  {
   "cell_type": "code",
   "execution_count": 3,
   "metadata": {},
   "outputs": [
    {
     "data": {
      "text/plain": [
       "'\\nPatient feels limb pain, limb coldness, and vision changes\\n'"
      ]
     },
     "execution_count": 3,
     "metadata": {},
     "output_type": "execute_result"
    }
   ],
   "source": [
    "# Initial content\n",
    "\n",
    "# icd = international classification of diseases\n",
    "\n",
    "# 1. EHR\n",
    "# 1a. patients\n",
    "df1 = ['patient_id', 'name', 'dob', 'gender', 'race', 'postal_code', 'occupation',\n",
    "       'phone', 'email']\n",
    "\n",
    "# 1b. admissions\n",
    "df = ['patient_id', 'hadm_id', 'intime', 'outtime']\n",
    "\n",
    "# 1d. Procedures\n",
    "df = ['hadm_id', 'icd9_code', 'clinician_id']\n",
    "d_procedures = {3000:'Carotid endarterectomy'}\n",
    "\n",
    "# 1b. diagnoses_icd\n",
    "df = ['hadm_id', 'icd9_code', 'clinician_id']\n",
    "d_diagnoses = {50000:'diabetes', 50001:'hiv', 50002:'cancer'}\n",
    "\n",
    "# chartevents\n",
    "df = ['hadm_id', 'item_id', 'datetime']\n",
    "d_chartevents = {2000:'weight', 2001:'abp'}\n",
    "\n",
    "\n",
    "# 2. Numerics of bp in blood-pressure/<patient_id>-<date>.csv. Both before and after surg.\n",
    "# Aggregated hourly data. One for each day. May not contain all 24 hours.\n",
    "\"\"\"\n",
    "hour,bp_min,bp_max\n",
    "0,70,72\n",
    "1\n",
    "2\n",
    "...\n",
    "23\n",
    "...\n",
    "\"\"\"\n",
    "\n",
    "# 3. Medications claims (files) in claims/NNNNNN.claim\n",
    "\"\"\"\n",
    "Datetime: \n",
    "Patient ID: \n",
    "Pharmacy: \n",
    "Drug: dexamethasone/erlotinib/other\n",
    "\"\"\"\n",
    "\n",
    "# 4. Patient followup in secure-chat/<patient_id>-<clinician_id>-<datetime>.txt\n",
    "\"\"\"\n",
    "Patient feels limb pain, limb coldness, and vision changes\n",
    "\"\"\"\n",
    "\n"
   ]
  },
  {
   "cell_type": "code",
   "execution_count": null,
   "metadata": {},
   "outputs": [],
   "source": []
  },
  {
   "cell_type": "code",
   "execution_count": null,
   "metadata": {},
   "outputs": [],
   "source": []
  }
 ],
 "metadata": {
  "kernelspec": {
   "display_name": "Python 3",
   "language": "python",
   "name": "python3"
  },
  "language_info": {
   "codemirror_mode": {
    "name": "ipython",
    "version": 3
   },
   "file_extension": ".py",
   "mimetype": "text/x-python",
   "name": "python",
   "nbconvert_exporter": "python",
   "pygments_lexer": "ipython3",
   "version": "3.5.2"
  }
 },
 "nbformat": 4,
 "nbformat_minor": 2
}
