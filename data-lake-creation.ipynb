{
 "cells": [
  {
   "cell_type": "code",
   "execution_count": 65,
   "metadata": {},
   "outputs": [],
   "source": [
    "# Simulating data for the data lake\n",
    "\n",
    "from collections import OrderedDict\n",
    "import datetime\n",
    "import json\n",
    "import os\n",
    "import random\n",
    "import sqlite3\n",
    "import string\n",
    "import struct\n",
    "\n",
    "import names\n",
    "import pandas as pd"
   ]
  },
  {
   "cell_type": "code",
   "execution_count": 63,
   "metadata": {},
   "outputs": [],
   "source": [
    "# [random.choice(range(17810000000, 17819999999)) for _ in range(100)]"
   ]
  },
  {
   "cell_type": "code",
   "execution_count": null,
   "metadata": {},
   "outputs": [],
   "source": []
  },
  {
   "cell_type": "code",
   "execution_count": null,
   "metadata": {},
   "outputs": [],
   "source": []
  },
  {
   "cell_type": "code",
   "execution_count": null,
   "metadata": {},
   "outputs": [],
   "source": [
    "\n",
    "\n",
    "\n",
    "\n"
   ]
  },
  {
   "cell_type": "code",
   "execution_count": null,
   "metadata": {},
   "outputs": [],
   "source": []
  },
  {
   "cell_type": "code",
   "execution_count": null,
   "metadata": {},
   "outputs": [],
   "source": []
  },
  {
   "cell_type": "code",
   "execution_count": null,
   "metadata": {},
   "outputs": [],
   "source": [
    "'patient_id', 'name', 'dob', 'gender', 'race', 'postal_code', 'occupation',\n",
    "       'phone', 'email'"
   ]
  },
  {
   "cell_type": "code",
   "execution_count": 86,
   "metadata": {},
   "outputs": [],
   "source": [
    "genders = [random.choice(['male', 'female']) for _ in range(400)]\n",
    "\n",
    "df_patients = pd.DataFrame(OrderedDict([\n",
    "    ('patient_id', range(1, 401)), ('name', [names.get_full_name(gender=g) for g in genders]),\n",
    "    ('dob', [datetime.datetime(random.choice(range(1950, 2000)), 1, 1, 1) for _ in range(400)]),\n",
    "    ('gender', genders), ('race', [random.choice(['asian', 'black', 'white', 'hispanic', 'native_american']) for _ in range(400)]),\n",
    "    ('postal_code', [random.choice(range(40000, 45000)) for _ in range(400)]),\n",
    "    ('occupation', [random.choice(['builder', 'teacher', 'firefighter', 'engineer', 'doctor']) for _ in range(400)]),\n",
    "    ('phone', [random.choice(range(17810000000, 17819999999)) for _ in range(400)]),\n",
    "]))"
   ]
  },
  {
   "cell_type": "code",
   "execution_count": 88,
   "metadata": {},
   "outputs": [],
   "source": [
    "# 1 admission per patient\n",
    "df_admissions = pd.DataFrame(OrderedDict([\n",
    "    ('hadm_id', range(50001, 50401)),\n",
    "    ('patient_id', range(1, 401)),\n",
    "    ('intime', [datetime.datetime(2018, 1, 1, 1)]*400),\n",
    "    ('outtime', [datetime.datetime(2018, 2, 1, 1)]*400)\n",
    "]))"
   ]
  },
  {
   "cell_type": "code",
   "execution_count": 91,
   "metadata": {},
   "outputs": [],
   "source": [
    "# 1 procedure per hadm_id. Around half will have code 3000 for carotid endartorectomy\n",
    "df_procedures = pd.DataFrame(OrderedDict([\n",
    "    ('hadm_id', range(50001, 50401)),\n",
    "    ('icd9_code', [random.choice([3000, 3001]) for _ in range(400)]),\n",
    "    ('clinician_id', [random.choice(range(1, 10)) for _ in range(400)]),\n",
    "]))"
   ]
  },
  {
   "cell_type": "code",
   "execution_count": 121,
   "metadata": {},
   "outputs": [],
   "source": [
    "# 0-3 diagnoses per patient\n",
    "hadm_ids, icd9_codes, clinician_ids = [], [], []\n",
    "\n",
    "for h in range(50001, 50401):\n",
    "    c = random.choice(range(1, 10))\n",
    "    x = random.choice(range(7))\n",
    "    \n",
    "    if x & 1:\n",
    "        hadm_ids.append(h)\n",
    "        icd9_codes.append(10000)\n",
    "        clinician_ids.append(c)\n",
    "    if x & 2:\n",
    "        hadm_ids.append(h)\n",
    "        icd9_codes.append(10001)\n",
    "        clinician_ids.append(c)\n",
    "    if x & 4:\n",
    "        hadm_ids.append(h)\n",
    "        icd9_codes.append(10002)\n",
    "        clinician_ids.append(c)\n",
    "    \n",
    "df_diagnoses = pd.DataFrame(OrderedDict([\n",
    "    ('hadm_id', hadm_ids),\n",
    "    ('icd9_code', icd9_codes),\n",
    "    ('clinician_id', clinician_ids),\n",
    "]))"
   ]
  },
  {
   "cell_type": "code",
   "execution_count": 148,
   "metadata": {},
   "outputs": [],
   "source": [
    "# Each hadm_id has a weight and 2 bps\n",
    "df_chartevents = pd.DataFrame(OrderedDict([\n",
    "    ('hadm_id', [item for sublist in [(x, x, x) for x in range(50001, 50401)] for item in sublist]),\n",
    "    ('item_id', [2000, 2001, 2001] * 400),\n",
    "    ('value', [item for subitem in [[random.choice(range(40, 120)), random.choice(range(4, 70)), random.choice(range(70, 110))] for _ in range(400)] for item in subitem]),\n",
    "    ('datetime', [datetime.datetime(2018, 1, 1, 2), datetime.datetime(2018, 1, 1, 3), datetime.datetime(2018, 1, 1, 4)]*400)\n",
    "]))"
   ]
  },
  {
   "cell_type": "code",
   "execution_count": 153,
   "metadata": {},
   "outputs": [
    {
     "data": {
      "text/plain": [
       "8"
      ]
     },
     "execution_count": 153,
     "metadata": {},
     "output_type": "execute_result"
    }
   ],
   "source": [
    "len(df_patients.columns)"
   ]
  },
  {
   "cell_type": "code",
   "execution_count": 157,
   "metadata": {},
   "outputs": [
    {
     "data": {
      "text/html": [
       "<div>\n",
       "<style scoped>\n",
       "    .dataframe tbody tr th:only-of-type {\n",
       "        vertical-align: middle;\n",
       "    }\n",
       "\n",
       "    .dataframe tbody tr th {\n",
       "        vertical-align: top;\n",
       "    }\n",
       "\n",
       "    .dataframe thead th {\n",
       "        text-align: right;\n",
       "    }\n",
       "</style>\n",
       "<table border=\"1\" class=\"dataframe\">\n",
       "  <thead>\n",
       "    <tr style=\"text-align: right;\">\n",
       "      <th></th>\n",
       "      <th>patient_id</th>\n",
       "      <th>name</th>\n",
       "      <th>dob</th>\n",
       "      <th>gender</th>\n",
       "      <th>race</th>\n",
       "      <th>postal_code</th>\n",
       "      <th>occupation</th>\n",
       "      <th>phone</th>\n",
       "    </tr>\n",
       "  </thead>\n",
       "  <tbody>\n",
       "    <tr>\n",
       "      <th>0</th>\n",
       "      <td>1</td>\n",
       "      <td>Tammy Tomasino</td>\n",
       "      <td>1974-01-01 01:00:00</td>\n",
       "      <td>female</td>\n",
       "      <td>black</td>\n",
       "      <td>42956</td>\n",
       "      <td>builder</td>\n",
       "      <td>17815298080</td>\n",
       "    </tr>\n",
       "    <tr>\n",
       "      <th>1</th>\n",
       "      <td>2</td>\n",
       "      <td>Leo Olmstead</td>\n",
       "      <td>1965-01-01 01:00:00</td>\n",
       "      <td>male</td>\n",
       "      <td>hispanic</td>\n",
       "      <td>40066</td>\n",
       "      <td>builder</td>\n",
       "      <td>17814384900</td>\n",
       "    </tr>\n",
       "    <tr>\n",
       "      <th>2</th>\n",
       "      <td>3</td>\n",
       "      <td>Joel Felix</td>\n",
       "      <td>1993-01-01 01:00:00</td>\n",
       "      <td>male</td>\n",
       "      <td>asian</td>\n",
       "      <td>40277</td>\n",
       "      <td>engineer</td>\n",
       "      <td>17816534216</td>\n",
       "    </tr>\n",
       "    <tr>\n",
       "      <th>3</th>\n",
       "      <td>4</td>\n",
       "      <td>Elbert Rivera</td>\n",
       "      <td>1988-01-01 01:00:00</td>\n",
       "      <td>male</td>\n",
       "      <td>black</td>\n",
       "      <td>43453</td>\n",
       "      <td>builder</td>\n",
       "      <td>17814220451</td>\n",
       "    </tr>\n",
       "    <tr>\n",
       "      <th>4</th>\n",
       "      <td>5</td>\n",
       "      <td>Evan Quero</td>\n",
       "      <td>1985-01-01 01:00:00</td>\n",
       "      <td>male</td>\n",
       "      <td>white</td>\n",
       "      <td>40369</td>\n",
       "      <td>engineer</td>\n",
       "      <td>17816405750</td>\n",
       "    </tr>\n",
       "  </tbody>\n",
       "</table>\n",
       "</div>"
      ],
      "text/plain": [
       "   patient_id            name                 dob  gender      race  \\\n",
       "0           1  Tammy Tomasino 1974-01-01 01:00:00  female     black   \n",
       "1           2    Leo Olmstead 1965-01-01 01:00:00    male  hispanic   \n",
       "2           3      Joel Felix 1993-01-01 01:00:00    male     asian   \n",
       "3           4   Elbert Rivera 1988-01-01 01:00:00    male     black   \n",
       "4           5      Evan Quero 1985-01-01 01:00:00    male     white   \n",
       "\n",
       "   postal_code occupation        phone  \n",
       "0        42956    builder  17815298080  \n",
       "1        40066    builder  17814384900  \n",
       "2        40277   engineer  17816534216  \n",
       "3        43453    builder  17814220451  \n",
       "4        40369   engineer  17816405750  "
      ]
     },
     "execution_count": 157,
     "metadata": {},
     "output_type": "execute_result"
    }
   ],
   "source": [
    "df_patients.head()"
   ]
  },
  {
   "cell_type": "code",
   "execution_count": null,
   "metadata": {},
   "outputs": [],
   "source": [
    "# 5: 101"
   ]
  },
  {
   "cell_type": "code",
   "execution_count": 110,
   "metadata": {},
   "outputs": [
    {
     "data": {
      "text/plain": [
       "2"
      ]
     },
     "execution_count": 110,
     "metadata": {},
     "output_type": "execute_result"
    }
   ],
   "source": [
    "2 & 2"
   ]
  },
  {
   "cell_type": "code",
   "execution_count": 166,
   "metadata": {},
   "outputs": [],
   "source": [
    "# The connection object represents the database\n",
    "os.remove('data/example-data-lake/ehr/ehr.db')\n",
    "conn = sqlite3.connect('data/example-data-lake/ehr/ehr.db')\n",
    "c = conn.cursor()\n",
    "\n",
    "# Create tables\n",
    "c.execute('''CREATE TABLE patients\n",
    "             (patient_id integer primary key, name text, dob date, gender text,\n",
    "              race text, postal_code integer, occupation text, phone integer);''')\n",
    "\n",
    "c.execute('''CREATE TABLE admissions\n",
    "             (hadm_id integer primary key, patient_id integer,\n",
    "              intime datetime, outtime datetime);''')\n",
    "\n",
    "c.execute('''CREATE TABLE procedures\n",
    "             (hadm_id integer, icd9_code integer, clinician_id integer);''')\n",
    "\n",
    "c.execute('''CREATE TABLE diagnoses\n",
    "             (hadm_id integer, icd9_code integer, clinician_id integer);''')\n",
    "\n",
    "c.execute('''CREATE TABLE chartevents\n",
    "             (hadm_id integer, item_id integer, value integer, datetime datetime);''')\n",
    "\n",
    "\n",
    "# Insert data\n",
    "df_patients.to_sql('patients', conn, index=False, if_exists='append')\n",
    "df_admissions.to_sql('admissions', conn, index=False, if_exists='append')\n",
    "df_procedures.to_sql('procedures', conn, index=False, if_exists='append')\n",
    "df_diagnoses.to_sql('diagnoses', conn, index=False, if_exists='append')\n",
    "df_chartevents.to_sql('chartevents', conn, index=False, if_exists='append')\n",
    "# c.executemany(\"INSERT INTO patients VALUES (?, ?, ?, ?, ?, ?, ?, ?)\", df_patients.values.tolist())\n",
    "# c.executemany(\"INSERT INTO reviews VALUES (?, ?, ?, ?)\", df_reviews.values.tolist())\n",
    "# c.executemany(\"INSERT INTO bonuses VALUES (?, ?, ?)\", df_bonuses.values.tolist())\n",
    "\n",
    "# Save (commit) the changes\n",
    "conn.commit()\n",
    "\n",
    "# We can also close the connection if we are done with it.\n",
    "# Just be sure any changes have been committed or they will be lost.\n",
    "conn.close()"
   ]
  },
  {
   "cell_type": "code",
   "execution_count": 167,
   "metadata": {},
   "outputs": [
    {
     "data": {
      "text/html": [
       "<div>\n",
       "<style scoped>\n",
       "    .dataframe tbody tr th:only-of-type {\n",
       "        vertical-align: middle;\n",
       "    }\n",
       "\n",
       "    .dataframe tbody tr th {\n",
       "        vertical-align: top;\n",
       "    }\n",
       "\n",
       "    .dataframe thead th {\n",
       "        text-align: right;\n",
       "    }\n",
       "</style>\n",
       "<table border=\"1\" class=\"dataframe\">\n",
       "  <thead>\n",
       "    <tr style=\"text-align: right;\">\n",
       "      <th></th>\n",
       "      <th>patient_id</th>\n",
       "      <th>name</th>\n",
       "      <th>dob</th>\n",
       "      <th>gender</th>\n",
       "      <th>race</th>\n",
       "      <th>postal_code</th>\n",
       "      <th>occupation</th>\n",
       "      <th>phone</th>\n",
       "    </tr>\n",
       "  </thead>\n",
       "  <tbody>\n",
       "    <tr>\n",
       "      <th>0</th>\n",
       "      <td>1</td>\n",
       "      <td>Tammy Tomasino</td>\n",
       "      <td>1974-01-01 01:00:00</td>\n",
       "      <td>female</td>\n",
       "      <td>black</td>\n",
       "      <td>42956</td>\n",
       "      <td>builder</td>\n",
       "      <td>17815298080</td>\n",
       "    </tr>\n",
       "    <tr>\n",
       "      <th>1</th>\n",
       "      <td>2</td>\n",
       "      <td>Leo Olmstead</td>\n",
       "      <td>1965-01-01 01:00:00</td>\n",
       "      <td>male</td>\n",
       "      <td>hispanic</td>\n",
       "      <td>40066</td>\n",
       "      <td>builder</td>\n",
       "      <td>17814384900</td>\n",
       "    </tr>\n",
       "    <tr>\n",
       "      <th>2</th>\n",
       "      <td>3</td>\n",
       "      <td>Joel Felix</td>\n",
       "      <td>1993-01-01 01:00:00</td>\n",
       "      <td>male</td>\n",
       "      <td>asian</td>\n",
       "      <td>40277</td>\n",
       "      <td>engineer</td>\n",
       "      <td>17816534216</td>\n",
       "    </tr>\n",
       "    <tr>\n",
       "      <th>3</th>\n",
       "      <td>4</td>\n",
       "      <td>Elbert Rivera</td>\n",
       "      <td>1988-01-01 01:00:00</td>\n",
       "      <td>male</td>\n",
       "      <td>black</td>\n",
       "      <td>43453</td>\n",
       "      <td>builder</td>\n",
       "      <td>17814220451</td>\n",
       "    </tr>\n",
       "    <tr>\n",
       "      <th>4</th>\n",
       "      <td>5</td>\n",
       "      <td>Evan Quero</td>\n",
       "      <td>1985-01-01 01:00:00</td>\n",
       "      <td>male</td>\n",
       "      <td>white</td>\n",
       "      <td>40369</td>\n",
       "      <td>engineer</td>\n",
       "      <td>17816405750</td>\n",
       "    </tr>\n",
       "  </tbody>\n",
       "</table>\n",
       "</div>"
      ],
      "text/plain": [
       "   patient_id            name                 dob  gender      race  \\\n",
       "0           1  Tammy Tomasino 1974-01-01 01:00:00  female     black   \n",
       "1           2    Leo Olmstead 1965-01-01 01:00:00    male  hispanic   \n",
       "2           3      Joel Felix 1993-01-01 01:00:00    male     asian   \n",
       "3           4   Elbert Rivera 1988-01-01 01:00:00    male     black   \n",
       "4           5      Evan Quero 1985-01-01 01:00:00    male     white   \n",
       "\n",
       "   postal_code occupation        phone  \n",
       "0        42956    builder  17815298080  \n",
       "1        40066    builder  17814384900  \n",
       "2        40277   engineer  17816534216  \n",
       "3        43453    builder  17814220451  \n",
       "4        40369   engineer  17816405750  "
      ]
     },
     "execution_count": 167,
     "metadata": {},
     "output_type": "execute_result"
    }
   ],
   "source": [
    "df_patients.head()"
   ]
  },
  {
   "cell_type": "code",
   "execution_count": 3,
   "metadata": {},
   "outputs": [
    {
     "data": {
      "text/plain": [
       "'\\nPatient feels limb pain, limb coldness, and vision changes\\n'"
      ]
     },
     "execution_count": 3,
     "metadata": {},
     "output_type": "execute_result"
    }
   ],
   "source": [
    "# Initial content\n",
    "\n",
    "# icd = international classification of diseases\n",
    "\n",
    "# 1. EHR\n",
    "# 1a. patients\n",
    "df1 = ['patient_id', 'name', 'dob', 'gender', 'race', 'postal_code', 'occupation',\n",
    "       'phone', 'email']\n",
    "\n",
    "# 1b. admissions\n",
    "df = ['patient_id', 'hadm_id', 'intime', 'outtime']\n",
    "\n",
    "# 1d. Procedures\n",
    "df = ['hadm_id', 'icd9_code', 'clinician_id']\n",
    "d_procedures = {3000:'Carotid endarterectomy'}\n",
    "\n",
    "# 1b. diagnoses_icd\n",
    "df = ['hadm_id', 'icd9_code', 'clinician_id']\n",
    "d_diagnoses = {50000:'diabetes', 50001:'hiv', 50002:'cancer'}\n",
    "\n",
    "# chartevents\n",
    "df = ['hadm_id', 'item_id', 'datetime']\n",
    "d_chartevents = {2000:'weight', 2001:'abp'}\n",
    "\n",
    "\n",
    "# 2. Numerics of bp in blood-pressure/<patient_id>-<date>.csv. Both before and after surg.\n",
    "# Aggregated hourly data. One for each day. May not contain all 24 hours.\n",
    "\"\"\"\n",
    "hour,bp_min,bp_max\n",
    "0,70,72\n",
    "1\n",
    "2\n",
    "...\n",
    "23\n",
    "...\n",
    "\"\"\"\n",
    "\n",
    "# 3. Medications claims (files) in claims/NNNNNN.claim\n",
    "\"\"\"\n",
    "Datetime: \n",
    "Patient ID: \n",
    "Pharmacy: \n",
    "Drug: dexamethasone/erlotinib/other\n",
    "\"\"\"\n",
    "\n",
    "# 4. Patient followup in secure-chat/<patient_id>-<clinician_id>-<datetime>.txt\n",
    "\"\"\"\n",
    "Patient feels limb pain, limb coldness, and vision changes\n",
    "\"\"\"\n",
    "\n"
   ]
  },
  {
   "cell_type": "code",
   "execution_count": null,
   "metadata": {},
   "outputs": [],
   "source": []
  },
  {
   "cell_type": "code",
   "execution_count": null,
   "metadata": {},
   "outputs": [],
   "source": []
  }
 ],
 "metadata": {
  "kernelspec": {
   "display_name": "Python 3",
   "language": "python",
   "name": "python3"
  },
  "language_info": {
   "codemirror_mode": {
    "name": "ipython",
    "version": 3
   },
   "file_extension": ".py",
   "mimetype": "text/x-python",
   "name": "python",
   "nbconvert_exporter": "python",
   "pygments_lexer": "ipython3",
   "version": "3.5.2"
  }
 },
 "nbformat": 4,
 "nbformat_minor": 2
}
